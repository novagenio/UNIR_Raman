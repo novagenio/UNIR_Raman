{
 "cells": [
  {
   "cell_type": "code",
   "execution_count": 1,
   "metadata": {},
   "outputs": [],
   "source": [
    "import pandas as pd"
   ]
  },
  {
   "cell_type": "code",
   "execution_count": 2,
   "metadata": {},
   "outputs": [],
   "source": [
    "import warnings\n",
    "warnings.filterwarnings('ignore')"
   ]
  },
  {
   "cell_type": "code",
   "execution_count": 3,
   "metadata": {},
   "outputs": [],
   "source": [
    "### read dataset innerArm"
   ]
  },
  {
   "cell_type": "code",
   "execution_count": 4,
   "metadata": {},
   "outputs": [
    {
     "data": {
      "text/html": [
       "<div>\n",
       "<style scoped>\n",
       "    .dataframe tbody tr th:only-of-type {\n",
       "        vertical-align: middle;\n",
       "    }\n",
       "\n",
       "    .dataframe tbody tr th {\n",
       "        vertical-align: top;\n",
       "    }\n",
       "\n",
       "    .dataframe thead th {\n",
       "        text-align: right;\n",
       "    }\n",
       "</style>\n",
       "<table border=\"1\" class=\"dataframe\">\n",
       "  <thead>\n",
       "    <tr style=\"text-align: right;\">\n",
       "      <th></th>\n",
       "      <th>patientID</th>\n",
       "      <th>has_DM2</th>\n",
       "      <th>Var2</th>\n",
       "      <th>Var3</th>\n",
       "      <th>Var4</th>\n",
       "      <th>Var5</th>\n",
       "      <th>Var6</th>\n",
       "      <th>Var7</th>\n",
       "      <th>Var8</th>\n",
       "      <th>Var9</th>\n",
       "      <th>...</th>\n",
       "      <th>Var3152</th>\n",
       "      <th>Var3153</th>\n",
       "      <th>Var3154</th>\n",
       "      <th>Var3155</th>\n",
       "      <th>Var3156</th>\n",
       "      <th>Var3157</th>\n",
       "      <th>Var3158</th>\n",
       "      <th>Var3159</th>\n",
       "      <th>Var3160</th>\n",
       "      <th>Var3161</th>\n",
       "    </tr>\n",
       "  </thead>\n",
       "  <tbody>\n",
       "    <tr>\n",
       "      <th>0</th>\n",
       "      <td>ramanShift</td>\n",
       "      <td>NaN</td>\n",
       "      <td>0.000000</td>\n",
       "      <td>1.000000</td>\n",
       "      <td>2.000000</td>\n",
       "      <td>3.000000</td>\n",
       "      <td>4.000000</td>\n",
       "      <td>5.000000</td>\n",
       "      <td>6.000000</td>\n",
       "      <td>7.000000</td>\n",
       "      <td>...</td>\n",
       "      <td>3150</td>\n",
       "      <td>3151</td>\n",
       "      <td>3152</td>\n",
       "      <td>3153</td>\n",
       "      <td>3154</td>\n",
       "      <td>3155</td>\n",
       "      <td>3156</td>\n",
       "      <td>3157</td>\n",
       "      <td>3158</td>\n",
       "      <td>3159</td>\n",
       "    </tr>\n",
       "    <tr>\n",
       "      <th>1</th>\n",
       "      <td>DM201</td>\n",
       "      <td>1.0</td>\n",
       "      <td>181.800000</td>\n",
       "      <td>181.800000</td>\n",
       "      <td>181.800000</td>\n",
       "      <td>181.800000</td>\n",
       "      <td>181.800000</td>\n",
       "      <td>181.800000</td>\n",
       "      <td>181.800000</td>\n",
       "      <td>181.800000</td>\n",
       "      <td>...</td>\n",
       "      <td>0</td>\n",
       "      <td>0</td>\n",
       "      <td>0</td>\n",
       "      <td>0</td>\n",
       "      <td>0</td>\n",
       "      <td>0</td>\n",
       "      <td>0</td>\n",
       "      <td>0</td>\n",
       "      <td>0</td>\n",
       "      <td>0</td>\n",
       "    </tr>\n",
       "    <tr>\n",
       "      <th>2</th>\n",
       "      <td>DM202</td>\n",
       "      <td>1.0</td>\n",
       "      <td>162.800000</td>\n",
       "      <td>162.800000</td>\n",
       "      <td>162.800000</td>\n",
       "      <td>162.800000</td>\n",
       "      <td>162.800000</td>\n",
       "      <td>162.800000</td>\n",
       "      <td>162.800000</td>\n",
       "      <td>162.800000</td>\n",
       "      <td>...</td>\n",
       "      <td>0</td>\n",
       "      <td>0</td>\n",
       "      <td>0</td>\n",
       "      <td>0</td>\n",
       "      <td>0</td>\n",
       "      <td>0</td>\n",
       "      <td>0</td>\n",
       "      <td>0</td>\n",
       "      <td>0</td>\n",
       "      <td>0</td>\n",
       "    </tr>\n",
       "    <tr>\n",
       "      <th>3</th>\n",
       "      <td>DM203</td>\n",
       "      <td>1.0</td>\n",
       "      <td>107.400000</td>\n",
       "      <td>107.400000</td>\n",
       "      <td>107.400000</td>\n",
       "      <td>107.400000</td>\n",
       "      <td>107.400000</td>\n",
       "      <td>107.400000</td>\n",
       "      <td>107.400000</td>\n",
       "      <td>107.400000</td>\n",
       "      <td>...</td>\n",
       "      <td>0</td>\n",
       "      <td>0</td>\n",
       "      <td>0</td>\n",
       "      <td>0</td>\n",
       "      <td>0</td>\n",
       "      <td>0</td>\n",
       "      <td>0</td>\n",
       "      <td>0</td>\n",
       "      <td>0</td>\n",
       "      <td>0</td>\n",
       "    </tr>\n",
       "    <tr>\n",
       "      <th>4</th>\n",
       "      <td>DM204</td>\n",
       "      <td>1.0</td>\n",
       "      <td>290.166667</td>\n",
       "      <td>290.166667</td>\n",
       "      <td>290.166667</td>\n",
       "      <td>290.166667</td>\n",
       "      <td>290.166667</td>\n",
       "      <td>290.166667</td>\n",
       "      <td>290.166667</td>\n",
       "      <td>290.166667</td>\n",
       "      <td>...</td>\n",
       "      <td>0</td>\n",
       "      <td>0</td>\n",
       "      <td>0</td>\n",
       "      <td>0</td>\n",
       "      <td>0</td>\n",
       "      <td>0</td>\n",
       "      <td>0</td>\n",
       "      <td>0</td>\n",
       "      <td>0</td>\n",
       "      <td>0</td>\n",
       "    </tr>\n",
       "  </tbody>\n",
       "</table>\n",
       "<p>5 rows × 3162 columns</p>\n",
       "</div>"
      ],
      "text/plain": [
       "    patientID  has_DM2        Var2        Var3        Var4        Var5  \\\n",
       "0  ramanShift      NaN    0.000000    1.000000    2.000000    3.000000   \n",
       "1       DM201      1.0  181.800000  181.800000  181.800000  181.800000   \n",
       "2       DM202      1.0  162.800000  162.800000  162.800000  162.800000   \n",
       "3       DM203      1.0  107.400000  107.400000  107.400000  107.400000   \n",
       "4       DM204      1.0  290.166667  290.166667  290.166667  290.166667   \n",
       "\n",
       "         Var6        Var7        Var8        Var9  ...  Var3152  Var3153  \\\n",
       "0    4.000000    5.000000    6.000000    7.000000  ...     3150     3151   \n",
       "1  181.800000  181.800000  181.800000  181.800000  ...        0        0   \n",
       "2  162.800000  162.800000  162.800000  162.800000  ...        0        0   \n",
       "3  107.400000  107.400000  107.400000  107.400000  ...        0        0   \n",
       "4  290.166667  290.166667  290.166667  290.166667  ...        0        0   \n",
       "\n",
       "   Var3154  Var3155  Var3156  Var3157  Var3158  Var3159  Var3160  Var3161  \n",
       "0     3152     3153     3154     3155     3156     3157     3158     3159  \n",
       "1        0        0        0        0        0        0        0        0  \n",
       "2        0        0        0        0        0        0        0        0  \n",
       "3        0        0        0        0        0        0        0        0  \n",
       "4        0        0        0        0        0        0        0        0  \n",
       "\n",
       "[5 rows x 3162 columns]"
      ]
     },
     "execution_count": 4,
     "metadata": {},
     "output_type": "execute_result"
    }
   ],
   "source": [
    "#df = pd.read_csv(\"innerArm.csv\")\n",
    "df = pd.read_csv(\"Merge.csv\")\n",
    "df.head(5)"
   ]
  },
  {
   "cell_type": "code",
   "execution_count": 5,
   "metadata": {},
   "outputs": [],
   "source": [
    "### delete 1rs row (wave) and drop patientID col"
   ]
  },
  {
   "cell_type": "code",
   "execution_count": 6,
   "metadata": {},
   "outputs": [],
   "source": [
    "patientID = df.pop('patientID')"
   ]
  },
  {
   "cell_type": "code",
   "execution_count": 7,
   "metadata": {},
   "outputs": [
    {
     "data": {
      "text/html": [
       "<div>\n",
       "<style scoped>\n",
       "    .dataframe tbody tr th:only-of-type {\n",
       "        vertical-align: middle;\n",
       "    }\n",
       "\n",
       "    .dataframe tbody tr th {\n",
       "        vertical-align: top;\n",
       "    }\n",
       "\n",
       "    .dataframe thead th {\n",
       "        text-align: right;\n",
       "    }\n",
       "</style>\n",
       "<table border=\"1\" class=\"dataframe\">\n",
       "  <thead>\n",
       "    <tr style=\"text-align: right;\">\n",
       "      <th></th>\n",
       "      <th>has_DM2</th>\n",
       "      <th>Var2</th>\n",
       "      <th>Var3</th>\n",
       "      <th>Var4</th>\n",
       "      <th>Var5</th>\n",
       "      <th>Var6</th>\n",
       "      <th>Var7</th>\n",
       "      <th>Var8</th>\n",
       "      <th>Var9</th>\n",
       "      <th>Var10</th>\n",
       "      <th>...</th>\n",
       "      <th>Var3152</th>\n",
       "      <th>Var3153</th>\n",
       "      <th>Var3154</th>\n",
       "      <th>Var3155</th>\n",
       "      <th>Var3156</th>\n",
       "      <th>Var3157</th>\n",
       "      <th>Var3158</th>\n",
       "      <th>Var3159</th>\n",
       "      <th>Var3160</th>\n",
       "      <th>Var3161</th>\n",
       "    </tr>\n",
       "  </thead>\n",
       "  <tbody>\n",
       "    <tr>\n",
       "      <th>0</th>\n",
       "      <td>1.0</td>\n",
       "      <td>181.800000</td>\n",
       "      <td>181.800000</td>\n",
       "      <td>181.800000</td>\n",
       "      <td>181.800000</td>\n",
       "      <td>181.800000</td>\n",
       "      <td>181.800000</td>\n",
       "      <td>181.800000</td>\n",
       "      <td>181.800000</td>\n",
       "      <td>181.800000</td>\n",
       "      <td>...</td>\n",
       "      <td>0</td>\n",
       "      <td>0</td>\n",
       "      <td>0</td>\n",
       "      <td>0</td>\n",
       "      <td>0</td>\n",
       "      <td>0</td>\n",
       "      <td>0</td>\n",
       "      <td>0</td>\n",
       "      <td>0</td>\n",
       "      <td>0</td>\n",
       "    </tr>\n",
       "    <tr>\n",
       "      <th>1</th>\n",
       "      <td>1.0</td>\n",
       "      <td>162.800000</td>\n",
       "      <td>162.800000</td>\n",
       "      <td>162.800000</td>\n",
       "      <td>162.800000</td>\n",
       "      <td>162.800000</td>\n",
       "      <td>162.800000</td>\n",
       "      <td>162.800000</td>\n",
       "      <td>162.800000</td>\n",
       "      <td>162.800000</td>\n",
       "      <td>...</td>\n",
       "      <td>0</td>\n",
       "      <td>0</td>\n",
       "      <td>0</td>\n",
       "      <td>0</td>\n",
       "      <td>0</td>\n",
       "      <td>0</td>\n",
       "      <td>0</td>\n",
       "      <td>0</td>\n",
       "      <td>0</td>\n",
       "      <td>0</td>\n",
       "    </tr>\n",
       "    <tr>\n",
       "      <th>2</th>\n",
       "      <td>1.0</td>\n",
       "      <td>107.400000</td>\n",
       "      <td>107.400000</td>\n",
       "      <td>107.400000</td>\n",
       "      <td>107.400000</td>\n",
       "      <td>107.400000</td>\n",
       "      <td>107.400000</td>\n",
       "      <td>107.400000</td>\n",
       "      <td>107.400000</td>\n",
       "      <td>107.400000</td>\n",
       "      <td>...</td>\n",
       "      <td>0</td>\n",
       "      <td>0</td>\n",
       "      <td>0</td>\n",
       "      <td>0</td>\n",
       "      <td>0</td>\n",
       "      <td>0</td>\n",
       "      <td>0</td>\n",
       "      <td>0</td>\n",
       "      <td>0</td>\n",
       "      <td>0</td>\n",
       "    </tr>\n",
       "    <tr>\n",
       "      <th>3</th>\n",
       "      <td>1.0</td>\n",
       "      <td>290.166667</td>\n",
       "      <td>290.166667</td>\n",
       "      <td>290.166667</td>\n",
       "      <td>290.166667</td>\n",
       "      <td>290.166667</td>\n",
       "      <td>290.166667</td>\n",
       "      <td>290.166667</td>\n",
       "      <td>290.166667</td>\n",
       "      <td>290.166667</td>\n",
       "      <td>...</td>\n",
       "      <td>0</td>\n",
       "      <td>0</td>\n",
       "      <td>0</td>\n",
       "      <td>0</td>\n",
       "      <td>0</td>\n",
       "      <td>0</td>\n",
       "      <td>0</td>\n",
       "      <td>0</td>\n",
       "      <td>0</td>\n",
       "      <td>0</td>\n",
       "    </tr>\n",
       "    <tr>\n",
       "      <th>4</th>\n",
       "      <td>1.0</td>\n",
       "      <td>50.600000</td>\n",
       "      <td>50.600000</td>\n",
       "      <td>50.600000</td>\n",
       "      <td>50.600000</td>\n",
       "      <td>50.600000</td>\n",
       "      <td>50.600000</td>\n",
       "      <td>50.600000</td>\n",
       "      <td>50.600000</td>\n",
       "      <td>50.600000</td>\n",
       "      <td>...</td>\n",
       "      <td>0</td>\n",
       "      <td>0</td>\n",
       "      <td>0</td>\n",
       "      <td>0</td>\n",
       "      <td>0</td>\n",
       "      <td>0</td>\n",
       "      <td>0</td>\n",
       "      <td>0</td>\n",
       "      <td>0</td>\n",
       "      <td>0</td>\n",
       "    </tr>\n",
       "  </tbody>\n",
       "</table>\n",
       "<p>5 rows × 3161 columns</p>\n",
       "</div>"
      ],
      "text/plain": [
       "   has_DM2        Var2        Var3        Var4        Var5        Var6  \\\n",
       "0      1.0  181.800000  181.800000  181.800000  181.800000  181.800000   \n",
       "1      1.0  162.800000  162.800000  162.800000  162.800000  162.800000   \n",
       "2      1.0  107.400000  107.400000  107.400000  107.400000  107.400000   \n",
       "3      1.0  290.166667  290.166667  290.166667  290.166667  290.166667   \n",
       "4      1.0   50.600000   50.600000   50.600000   50.600000   50.600000   \n",
       "\n",
       "         Var7        Var8        Var9       Var10  ...  Var3152  Var3153  \\\n",
       "0  181.800000  181.800000  181.800000  181.800000  ...        0        0   \n",
       "1  162.800000  162.800000  162.800000  162.800000  ...        0        0   \n",
       "2  107.400000  107.400000  107.400000  107.400000  ...        0        0   \n",
       "3  290.166667  290.166667  290.166667  290.166667  ...        0        0   \n",
       "4   50.600000   50.600000   50.600000   50.600000  ...        0        0   \n",
       "\n",
       "   Var3154  Var3155  Var3156  Var3157  Var3158  Var3159  Var3160  Var3161  \n",
       "0        0        0        0        0        0        0        0        0  \n",
       "1        0        0        0        0        0        0        0        0  \n",
       "2        0        0        0        0        0        0        0        0  \n",
       "3        0        0        0        0        0        0        0        0  \n",
       "4        0        0        0        0        0        0        0        0  \n",
       "\n",
       "[5 rows x 3161 columns]"
      ]
     },
     "execution_count": 7,
     "metadata": {},
     "output_type": "execute_result"
    }
   ],
   "source": [
    "df.drop(0, inplace=True)\n",
    "df = df.reset_index(drop=True)\n",
    "df.head(5)"
   ]
  },
  {
   "cell_type": "markdown",
   "metadata": {},
   "source": [
    "### Crop Data to 800-1800 cm^-1 ###"
   ]
  },
  {
   "cell_type": "code",
   "execution_count": 8,
   "metadata": {},
   "outputs": [],
   "source": [
    "import re\n",
    "droped_columns = []\n",
    "df.drop(['Var2'], axis = 'columns', inplace=True)\n",
    "for col in df.columns:\n",
    "    #print(\"------------------------------>\" + re.findall(r'\\d+', col)[0])\n",
    "    if int(re.findall(r'\\d+', col)[0]) > 2:\n",
    "        #print(re.findall(r'\\d+', col)[0])\n",
    "        if int(re.findall(r'\\d+', col)[0]) <= 800 or int(re.findall(r'\\d+', col)[0]) >= 1800:\n",
    "            droped_columns.append(col)"
   ]
  },
  {
   "cell_type": "code",
   "execution_count": 9,
   "metadata": {},
   "outputs": [],
   "source": [
    "df.drop(droped_columns, axis=1, inplace=True)\n",
    "df = df.reset_index(drop=True)"
   ]
  },
  {
   "cell_type": "code",
   "execution_count": 10,
   "metadata": {},
   "outputs": [
    {
     "data": {
      "text/html": [
       "<div>\n",
       "<style scoped>\n",
       "    .dataframe tbody tr th:only-of-type {\n",
       "        vertical-align: middle;\n",
       "    }\n",
       "\n",
       "    .dataframe tbody tr th {\n",
       "        vertical-align: top;\n",
       "    }\n",
       "\n",
       "    .dataframe thead th {\n",
       "        text-align: right;\n",
       "    }\n",
       "</style>\n",
       "<table border=\"1\" class=\"dataframe\">\n",
       "  <thead>\n",
       "    <tr style=\"text-align: right;\">\n",
       "      <th></th>\n",
       "      <th>has_DM2</th>\n",
       "      <th>Var801</th>\n",
       "      <th>Var802</th>\n",
       "      <th>Var803</th>\n",
       "      <th>Var804</th>\n",
       "      <th>Var805</th>\n",
       "      <th>Var806</th>\n",
       "      <th>Var807</th>\n",
       "      <th>Var808</th>\n",
       "      <th>Var809</th>\n",
       "      <th>...</th>\n",
       "      <th>Var1790</th>\n",
       "      <th>Var1791</th>\n",
       "      <th>Var1792</th>\n",
       "      <th>Var1793</th>\n",
       "      <th>Var1794</th>\n",
       "      <th>Var1795</th>\n",
       "      <th>Var1796</th>\n",
       "      <th>Var1797</th>\n",
       "      <th>Var1798</th>\n",
       "      <th>Var1799</th>\n",
       "    </tr>\n",
       "  </thead>\n",
       "  <tbody>\n",
       "    <tr>\n",
       "      <th>0</th>\n",
       "      <td>1.0</td>\n",
       "      <td>187.887152</td>\n",
       "      <td>191.185864</td>\n",
       "      <td>195.943112</td>\n",
       "      <td>197.019885</td>\n",
       "      <td>194.774564</td>\n",
       "      <td>192.743616</td>\n",
       "      <td>191.215888</td>\n",
       "      <td>190.194934</td>\n",
       "      <td>195.590097</td>\n",
       "      <td>...</td>\n",
       "      <td>51.245700</td>\n",
       "      <td>54.463985</td>\n",
       "      <td>56.393459</td>\n",
       "      <td>49.932257</td>\n",
       "      <td>47.622393</td>\n",
       "      <td>48.354281</td>\n",
       "      <td>51.604005</td>\n",
       "      <td>53.379442</td>\n",
       "      <td>51.303317</td>\n",
       "      <td>50.599999</td>\n",
       "    </tr>\n",
       "    <tr>\n",
       "      <th>1</th>\n",
       "      <td>1.0</td>\n",
       "      <td>169.308038</td>\n",
       "      <td>175.024512</td>\n",
       "      <td>183.282382</td>\n",
       "      <td>189.843460</td>\n",
       "      <td>194.872977</td>\n",
       "      <td>195.259000</td>\n",
       "      <td>184.744665</td>\n",
       "      <td>175.342270</td>\n",
       "      <td>180.018082</td>\n",
       "      <td>...</td>\n",
       "      <td>58.028577</td>\n",
       "      <td>56.525036</td>\n",
       "      <td>54.495767</td>\n",
       "      <td>52.179488</td>\n",
       "      <td>49.228832</td>\n",
       "      <td>45.813356</td>\n",
       "      <td>48.117433</td>\n",
       "      <td>51.241115</td>\n",
       "      <td>55.393367</td>\n",
       "      <td>55.345582</td>\n",
       "    </tr>\n",
       "    <tr>\n",
       "      <th>2</th>\n",
       "      <td>1.0</td>\n",
       "      <td>120.285950</td>\n",
       "      <td>120.814867</td>\n",
       "      <td>122.161259</td>\n",
       "      <td>124.735393</td>\n",
       "      <td>128.417717</td>\n",
       "      <td>129.147617</td>\n",
       "      <td>122.946858</td>\n",
       "      <td>117.390883</td>\n",
       "      <td>119.998546</td>\n",
       "      <td>...</td>\n",
       "      <td>27.668530</td>\n",
       "      <td>35.821674</td>\n",
       "      <td>43.497690</td>\n",
       "      <td>39.352768</td>\n",
       "      <td>34.854444</td>\n",
       "      <td>30.097175</td>\n",
       "      <td>28.998998</td>\n",
       "      <td>29.130067</td>\n",
       "      <td>31.572569</td>\n",
       "      <td>35.551240</td>\n",
       "    </tr>\n",
       "    <tr>\n",
       "      <th>3</th>\n",
       "      <td>1.0</td>\n",
       "      <td>305.211868</td>\n",
       "      <td>307.784993</td>\n",
       "      <td>313.469755</td>\n",
       "      <td>317.818830</td>\n",
       "      <td>320.962275</td>\n",
       "      <td>321.376920</td>\n",
       "      <td>315.385852</td>\n",
       "      <td>310.069199</td>\n",
       "      <td>313.291306</td>\n",
       "      <td>...</td>\n",
       "      <td>65.438088</td>\n",
       "      <td>65.602856</td>\n",
       "      <td>66.066346</td>\n",
       "      <td>66.371121</td>\n",
       "      <td>67.086658</td>\n",
       "      <td>68.103169</td>\n",
       "      <td>66.164164</td>\n",
       "      <td>65.640090</td>\n",
       "      <td>68.896758</td>\n",
       "      <td>68.855319</td>\n",
       "    </tr>\n",
       "    <tr>\n",
       "      <th>4</th>\n",
       "      <td>1.0</td>\n",
       "      <td>68.073479</td>\n",
       "      <td>67.170268</td>\n",
       "      <td>64.477484</td>\n",
       "      <td>64.899369</td>\n",
       "      <td>68.132629</td>\n",
       "      <td>69.567770</td>\n",
       "      <td>66.781921</td>\n",
       "      <td>64.206583</td>\n",
       "      <td>64.296500</td>\n",
       "      <td>...</td>\n",
       "      <td>13.479965</td>\n",
       "      <td>20.565450</td>\n",
       "      <td>26.566919</td>\n",
       "      <td>19.983809</td>\n",
       "      <td>17.903988</td>\n",
       "      <td>19.123801</td>\n",
       "      <td>19.314429</td>\n",
       "      <td>19.874544</td>\n",
       "      <td>21.462170</td>\n",
       "      <td>21.272791</td>\n",
       "    </tr>\n",
       "  </tbody>\n",
       "</table>\n",
       "<p>5 rows × 1000 columns</p>\n",
       "</div>"
      ],
      "text/plain": [
       "   has_DM2      Var801      Var802      Var803      Var804      Var805  \\\n",
       "0      1.0  187.887152  191.185864  195.943112  197.019885  194.774564   \n",
       "1      1.0  169.308038  175.024512  183.282382  189.843460  194.872977   \n",
       "2      1.0  120.285950  120.814867  122.161259  124.735393  128.417717   \n",
       "3      1.0  305.211868  307.784993  313.469755  317.818830  320.962275   \n",
       "4      1.0   68.073479   67.170268   64.477484   64.899369   68.132629   \n",
       "\n",
       "       Var806      Var807      Var808      Var809  ...    Var1790    Var1791  \\\n",
       "0  192.743616  191.215888  190.194934  195.590097  ...  51.245700  54.463985   \n",
       "1  195.259000  184.744665  175.342270  180.018082  ...  58.028577  56.525036   \n",
       "2  129.147617  122.946858  117.390883  119.998546  ...  27.668530  35.821674   \n",
       "3  321.376920  315.385852  310.069199  313.291306  ...  65.438088  65.602856   \n",
       "4   69.567770   66.781921   64.206583   64.296500  ...  13.479965  20.565450   \n",
       "\n",
       "     Var1792    Var1793    Var1794    Var1795    Var1796    Var1797  \\\n",
       "0  56.393459  49.932257  47.622393  48.354281  51.604005  53.379442   \n",
       "1  54.495767  52.179488  49.228832  45.813356  48.117433  51.241115   \n",
       "2  43.497690  39.352768  34.854444  30.097175  28.998998  29.130067   \n",
       "3  66.066346  66.371121  67.086658  68.103169  66.164164  65.640090   \n",
       "4  26.566919  19.983809  17.903988  19.123801  19.314429  19.874544   \n",
       "\n",
       "     Var1798    Var1799  \n",
       "0  51.303317  50.599999  \n",
       "1  55.393367  55.345582  \n",
       "2  31.572569  35.551240  \n",
       "3  68.896758  68.855319  \n",
       "4  21.462170  21.272791  \n",
       "\n",
       "[5 rows x 1000 columns]"
      ]
     },
     "execution_count": 10,
     "metadata": {},
     "output_type": "execute_result"
    }
   ],
   "source": [
    "df.head()"
   ]
  },
  {
   "cell_type": "markdown",
   "metadata": {},
   "source": [
    "### Matriz Correlación antes PCA. Dada la dimención de atributos es imposible leer nada."
   ]
  },
  {
   "cell_type": "code",
   "execution_count": 11,
   "metadata": {},
   "outputs": [
    {
     "data": {
      "text/plain": [
       "Text(0.5, 1.0, 'Correlation ')"
      ]
     },
     "execution_count": 11,
     "metadata": {},
     "output_type": "execute_result"
    },
    {
     "data": {
      "image/png": "[encoded data removed]",
      "text/plain": [
       "<Figure size 504x360 with 2 Axes>"
      ]
     },
     "metadata": {
      "needs_background": "light"
     },
     "output_type": "display_data"
    }
   ],
   "source": [
    "import seaborn as sns\n",
    "import matplotlib.pyplot as plt\n",
    "corr=df.corr()\n",
    "fig = plt.figure(figsize=(7,5))\n",
    "r = sns.heatmap(corr, cmap='Purples')\n",
    "r.set_title(\"Correlation \")"
   ]
  },
  {
   "cell_type": "markdown",
   "metadata": {},
   "source": [
    "### PCA using 15 components (segun el paper)"
   ]
  },
  {
   "cell_type": "code",
   "execution_count": 12,
   "metadata": {},
   "outputs": [
    {
     "data": {
      "text/html": [
       "<div>\n",
       "<style scoped>\n",
       "    .dataframe tbody tr th:only-of-type {\n",
       "        vertical-align: middle;\n",
       "    }\n",
       "\n",
       "    .dataframe tbody tr th {\n",
       "        vertical-align: top;\n",
       "    }\n",
       "\n",
       "    .dataframe thead th {\n",
       "        text-align: right;\n",
       "    }\n",
       "</style>\n",
       "<table border=\"1\" class=\"dataframe\">\n",
       "  <thead>\n",
       "    <tr style=\"text-align: right;\">\n",
       "      <th></th>\n",
       "      <th>has_DM2</th>\n",
       "      <th>Var801</th>\n",
       "      <th>Var802</th>\n",
       "      <th>Var803</th>\n",
       "      <th>Var804</th>\n",
       "      <th>Var805</th>\n",
       "      <th>Var806</th>\n",
       "      <th>Var807</th>\n",
       "      <th>Var808</th>\n",
       "      <th>Var809</th>\n",
       "      <th>...</th>\n",
       "      <th>Var1790</th>\n",
       "      <th>Var1791</th>\n",
       "      <th>Var1792</th>\n",
       "      <th>Var1793</th>\n",
       "      <th>Var1794</th>\n",
       "      <th>Var1795</th>\n",
       "      <th>Var1796</th>\n",
       "      <th>Var1797</th>\n",
       "      <th>Var1798</th>\n",
       "      <th>Var1799</th>\n",
       "    </tr>\n",
       "  </thead>\n",
       "  <tbody>\n",
       "    <tr>\n",
       "      <th>0</th>\n",
       "      <td>1.0</td>\n",
       "      <td>187.887152</td>\n",
       "      <td>191.185864</td>\n",
       "      <td>195.943112</td>\n",
       "      <td>197.019885</td>\n",
       "      <td>194.774564</td>\n",
       "      <td>192.743616</td>\n",
       "      <td>191.215888</td>\n",
       "      <td>190.194934</td>\n",
       "      <td>195.590097</td>\n",
       "      <td>...</td>\n",
       "      <td>51.245700</td>\n",
       "      <td>54.463985</td>\n",
       "      <td>56.393459</td>\n",
       "      <td>49.932257</td>\n",
       "      <td>47.622393</td>\n",
       "      <td>48.354281</td>\n",
       "      <td>51.604005</td>\n",
       "      <td>53.379442</td>\n",
       "      <td>51.303317</td>\n",
       "      <td>50.599999</td>\n",
       "    </tr>\n",
       "    <tr>\n",
       "      <th>1</th>\n",
       "      <td>1.0</td>\n",
       "      <td>169.308038</td>\n",
       "      <td>175.024512</td>\n",
       "      <td>183.282382</td>\n",
       "      <td>189.843460</td>\n",
       "      <td>194.872977</td>\n",
       "      <td>195.259000</td>\n",
       "      <td>184.744665</td>\n",
       "      <td>175.342270</td>\n",
       "      <td>180.018082</td>\n",
       "      <td>...</td>\n",
       "      <td>58.028577</td>\n",
       "      <td>56.525036</td>\n",
       "      <td>54.495767</td>\n",
       "      <td>52.179488</td>\n",
       "      <td>49.228832</td>\n",
       "      <td>45.813356</td>\n",
       "      <td>48.117433</td>\n",
       "      <td>51.241115</td>\n",
       "      <td>55.393367</td>\n",
       "      <td>55.345582</td>\n",
       "    </tr>\n",
       "    <tr>\n",
       "      <th>2</th>\n",
       "      <td>1.0</td>\n",
       "      <td>120.285950</td>\n",
       "      <td>120.814867</td>\n",
       "      <td>122.161259</td>\n",
       "      <td>124.735393</td>\n",
       "      <td>128.417717</td>\n",
       "      <td>129.147617</td>\n",
       "      <td>122.946858</td>\n",
       "      <td>117.390883</td>\n",
       "      <td>119.998546</td>\n",
       "      <td>...</td>\n",
       "      <td>27.668530</td>\n",
       "      <td>35.821674</td>\n",
       "      <td>43.497690</td>\n",
       "      <td>39.352768</td>\n",
       "      <td>34.854444</td>\n",
       "      <td>30.097175</td>\n",
       "      <td>28.998998</td>\n",
       "      <td>29.130067</td>\n",
       "      <td>31.572569</td>\n",
       "      <td>35.551240</td>\n",
       "    </tr>\n",
       "    <tr>\n",
       "      <th>3</th>\n",
       "      <td>1.0</td>\n",
       "      <td>305.211868</td>\n",
       "      <td>307.784993</td>\n",
       "      <td>313.469755</td>\n",
       "      <td>317.818830</td>\n",
       "      <td>320.962275</td>\n",
       "      <td>321.376920</td>\n",
       "      <td>315.385852</td>\n",
       "      <td>310.069199</td>\n",
       "      <td>313.291306</td>\n",
       "      <td>...</td>\n",
       "      <td>65.438088</td>\n",
       "      <td>65.602856</td>\n",
       "      <td>66.066346</td>\n",
       "      <td>66.371121</td>\n",
       "      <td>67.086658</td>\n",
       "      <td>68.103169</td>\n",
       "      <td>66.164164</td>\n",
       "      <td>65.640090</td>\n",
       "      <td>68.896758</td>\n",
       "      <td>68.855319</td>\n",
       "    </tr>\n",
       "    <tr>\n",
       "      <th>4</th>\n",
       "      <td>1.0</td>\n",
       "      <td>68.073479</td>\n",
       "      <td>67.170268</td>\n",
       "      <td>64.477484</td>\n",
       "      <td>64.899369</td>\n",
       "      <td>68.132629</td>\n",
       "      <td>69.567770</td>\n",
       "      <td>66.781921</td>\n",
       "      <td>64.206583</td>\n",
       "      <td>64.296500</td>\n",
       "      <td>...</td>\n",
       "      <td>13.479965</td>\n",
       "      <td>20.565450</td>\n",
       "      <td>26.566919</td>\n",
       "      <td>19.983809</td>\n",
       "      <td>17.903988</td>\n",
       "      <td>19.123801</td>\n",
       "      <td>19.314429</td>\n",
       "      <td>19.874544</td>\n",
       "      <td>21.462170</td>\n",
       "      <td>21.272791</td>\n",
       "    </tr>\n",
       "  </tbody>\n",
       "</table>\n",
       "<p>5 rows × 1000 columns</p>\n",
       "</div>"
      ],
      "text/plain": [
       "   has_DM2      Var801      Var802      Var803      Var804      Var805  \\\n",
       "0      1.0  187.887152  191.185864  195.943112  197.019885  194.774564   \n",
       "1      1.0  169.308038  175.024512  183.282382  189.843460  194.872977   \n",
       "2      1.0  120.285950  120.814867  122.161259  124.735393  128.417717   \n",
       "3      1.0  305.211868  307.784993  313.469755  317.818830  320.962275   \n",
       "4      1.0   68.073479   67.170268   64.477484   64.899369   68.132629   \n",
       "\n",
       "       Var806      Var807      Var808      Var809  ...    Var1790    Var1791  \\\n",
       "0  192.743616  191.215888  190.194934  195.590097  ...  51.245700  54.463985   \n",
       "1  195.259000  184.744665  175.342270  180.018082  ...  58.028577  56.525036   \n",
       "2  129.147617  122.946858  117.390883  119.998546  ...  27.668530  35.821674   \n",
       "3  321.376920  315.385852  310.069199  313.291306  ...  65.438088  65.602856   \n",
       "4   69.567770   66.781921   64.206583   64.296500  ...  13.479965  20.565450   \n",
       "\n",
       "     Var1792    Var1793    Var1794    Var1795    Var1796    Var1797  \\\n",
       "0  56.393459  49.932257  47.622393  48.354281  51.604005  53.379442   \n",
       "1  54.495767  52.179488  49.228832  45.813356  48.117433  51.241115   \n",
       "2  43.497690  39.352768  34.854444  30.097175  28.998998  29.130067   \n",
       "3  66.066346  66.371121  67.086658  68.103169  66.164164  65.640090   \n",
       "4  26.566919  19.983809  17.903988  19.123801  19.314429  19.874544   \n",
       "\n",
       "     Var1798    Var1799  \n",
       "0  51.303317  50.599999  \n",
       "1  55.393367  55.345582  \n",
       "2  31.572569  35.551240  \n",
       "3  68.896758  68.855319  \n",
       "4  21.462170  21.272791  \n",
       "\n",
       "[5 rows x 1000 columns]"
      ]
     },
     "execution_count": 12,
     "metadata": {},
     "output_type": "execute_result"
    }
   ],
   "source": [
    "df.head(5)"
   ]
  },
  {
   "cell_type": "code",
   "execution_count": 13,
   "metadata": {},
   "outputs": [],
   "source": [
    "from sklearn.preprocessing import StandardScaler\n",
    "\n",
    "# Separating out the features\n",
    "#x = df.iloc[:,2:3159]\n",
    "x = df.iloc[:,0:1799]\n",
    "# Separating out the target\n",
    "y = df.loc[:,['has_DM2']].values\n",
    "# Standardizing the features\n",
    "x = StandardScaler().fit_transform(x)"
   ]
  },
  {
   "cell_type": "code",
   "execution_count": 14,
   "metadata": {},
   "outputs": [
    {
     "data": {
      "text/plain": [
       "<matplotlib.legend.Legend at 0x158d92bc8b0>"
      ]
     },
     "execution_count": 14,
     "metadata": {},
     "output_type": "execute_result"
    },
    {
     "data": {
      "image/png": "[encoded data removed]",
      "text/plain": [
       "<Figure size 360x360 with 1 Axes>"
      ]
     },
     "metadata": {
      "needs_background": "light"
     },
     "output_type": "display_data"
    }
   ],
   "source": [
    "import numpy as np\n",
    "from sklearn.decomposition import PCA\n",
    "pca = PCA()\n",
    "pca.fit(x)\n",
    "cumsum = np.cumsum(pca.explained_variance_ratio_)*100\n",
    "d = [n for n in range(len(cumsum))]\n",
    "plt.figure(figsize=(5, 5))\n",
    "plt.plot(d,cumsum, color = 'red',label='cumulative explained variance')\n",
    "plt.title('Cumulative Explained Variance as a Function of the Number of Components')\n",
    "plt.ylabel('Cumulative Explained variance')\n",
    "plt.xlabel('Principal components')\n",
    "plt.axhline(y = 95, color='k', linestyle='--', label = '95% Explained Variance')\n",
    "plt.legend(loc='best')"
   ]
  },
  {
   "cell_type": "code",
   "execution_count": 15,
   "metadata": {},
   "outputs": [],
   "source": [
    "from sklearn.decomposition import PCA\n",
    "pca = PCA(n_components=15)\n",
    "principalComponents = pca.fit_transform(x)\n",
    "principalDf = pd.DataFrame(data = principalComponents)"
   ]
  },
  {
   "cell_type": "code",
   "execution_count": 16,
   "metadata": {},
   "outputs": [
    {
     "data": {
      "text/html": [
       "<div>\n",
       "<style scoped>\n",
       "    .dataframe tbody tr th:only-of-type {\n",
       "        vertical-align: middle;\n",
       "    }\n",
       "\n",
       "    .dataframe tbody tr th {\n",
       "        vertical-align: top;\n",
       "    }\n",
       "\n",
       "    .dataframe thead th {\n",
       "        text-align: right;\n",
       "    }\n",
       "</style>\n",
       "<table border=\"1\" class=\"dataframe\">\n",
       "  <thead>\n",
       "    <tr style=\"text-align: right;\">\n",
       "      <th></th>\n",
       "      <th>0</th>\n",
       "      <th>1</th>\n",
       "      <th>2</th>\n",
       "      <th>3</th>\n",
       "      <th>4</th>\n",
       "      <th>5</th>\n",
       "      <th>6</th>\n",
       "      <th>7</th>\n",
       "      <th>8</th>\n",
       "      <th>9</th>\n",
       "      <th>10</th>\n",
       "      <th>11</th>\n",
       "      <th>12</th>\n",
       "      <th>13</th>\n",
       "      <th>14</th>\n",
       "      <th>has_DM2</th>\n",
       "    </tr>\n",
       "  </thead>\n",
       "  <tbody>\n",
       "    <tr>\n",
       "      <th>0</th>\n",
       "      <td>-2.169739</td>\n",
       "      <td>1.918140</td>\n",
       "      <td>0.637853</td>\n",
       "      <td>0.386989</td>\n",
       "      <td>-0.762561</td>\n",
       "      <td>-0.055217</td>\n",
       "      <td>1.185240</td>\n",
       "      <td>0.947213</td>\n",
       "      <td>0.317738</td>\n",
       "      <td>-0.322883</td>\n",
       "      <td>0.177646</td>\n",
       "      <td>-0.309646</td>\n",
       "      <td>0.316554</td>\n",
       "      <td>0.107131</td>\n",
       "      <td>0.357526</td>\n",
       "      <td>1.0</td>\n",
       "    </tr>\n",
       "    <tr>\n",
       "      <th>1</th>\n",
       "      <td>-2.015611</td>\n",
       "      <td>0.476158</td>\n",
       "      <td>-3.847478</td>\n",
       "      <td>-0.007250</td>\n",
       "      <td>-0.942477</td>\n",
       "      <td>1.054212</td>\n",
       "      <td>-0.064666</td>\n",
       "      <td>-1.102668</td>\n",
       "      <td>-0.054830</td>\n",
       "      <td>0.646742</td>\n",
       "      <td>-0.357670</td>\n",
       "      <td>-0.480459</td>\n",
       "      <td>-0.040964</td>\n",
       "      <td>-0.594364</td>\n",
       "      <td>-0.153613</td>\n",
       "      <td>1.0</td>\n",
       "    </tr>\n",
       "    <tr>\n",
       "      <th>2</th>\n",
       "      <td>-19.446570</td>\n",
       "      <td>-0.865977</td>\n",
       "      <td>-0.648309</td>\n",
       "      <td>0.367380</td>\n",
       "      <td>-0.838624</td>\n",
       "      <td>0.560760</td>\n",
       "      <td>0.653266</td>\n",
       "      <td>0.243252</td>\n",
       "      <td>0.490421</td>\n",
       "      <td>-0.088518</td>\n",
       "      <td>0.261514</td>\n",
       "      <td>0.679660</td>\n",
       "      <td>0.415057</td>\n",
       "      <td>-0.580410</td>\n",
       "      <td>0.679961</td>\n",
       "      <td>1.0</td>\n",
       "    </tr>\n",
       "  </tbody>\n",
       "</table>\n",
       "</div>"
      ],
      "text/plain": [
       "           0         1         2         3         4         5         6  \\\n",
       "0  -2.169739  1.918140  0.637853  0.386989 -0.762561 -0.055217  1.185240   \n",
       "1  -2.015611  0.476158 -3.847478 -0.007250 -0.942477  1.054212 -0.064666   \n",
       "2 -19.446570 -0.865977 -0.648309  0.367380 -0.838624  0.560760  0.653266   \n",
       "\n",
       "          7         8         9        10        11        12        13  \\\n",
       "0  0.947213  0.317738 -0.322883  0.177646 -0.309646  0.316554  0.107131   \n",
       "1 -1.102668 -0.054830  0.646742 -0.357670 -0.480459 -0.040964 -0.594364   \n",
       "2  0.243252  0.490421 -0.088518  0.261514  0.679660  0.415057 -0.580410   \n",
       "\n",
       "         14  has_DM2  \n",
       "0  0.357526      1.0  \n",
       "1 -0.153613      1.0  \n",
       "2  0.679961      1.0  "
      ]
     },
     "execution_count": 16,
     "metadata": {},
     "output_type": "execute_result"
    }
   ],
   "source": [
    "finalDf = pd.concat([principalDf, df[['has_DM2']]], axis = 1)\n",
    "finalDf.head(3)"
   ]
  },
  {
   "cell_type": "code",
   "execution_count": 17,
   "metadata": {},
   "outputs": [],
   "source": [
    "#finalDf.describe()"
   ]
  },
  {
   "cell_type": "markdown",
   "metadata": {},
   "source": [
    "### Matris correlación despues PCA 15"
   ]
  },
  {
   "cell_type": "code",
   "execution_count": 18,
   "metadata": {},
   "outputs": [
    {
     "data": {
      "text/plain": [
       "Text(0.5, 1.0, 'Correlation ')"
      ]
     },
     "execution_count": 18,
     "metadata": {},
     "output_type": "execute_result"
    },
    {
     "data": {
      "image/png": "[encoded data removed]",
      "text/plain": [
       "<Figure size 504x360 with 2 Axes>"
      ]
     },
     "metadata": {
      "needs_background": "light"
     },
     "output_type": "display_data"
    }
   ],
   "source": [
    "import seaborn as sns\n",
    "import matplotlib.pyplot as plt\n",
    "corr=finalDf.corr()\n",
    "fig = plt.figure(figsize=(7,5))\n",
    "r = sns.heatmap(corr, cmap='Purples')\n",
    "r.set_title(\"Correlation \")"
   ]
  },
  {
   "cell_type": "markdown",
   "metadata": {},
   "source": [
    "### Analisis de modelos sobre data set con PCA"
   ]
  },
  {
   "cell_type": "code",
   "execution_count": 19,
   "metadata": {},
   "outputs": [],
   "source": [
    "import pandas as pd\n",
    "import seaborn as sns\n",
    "import numpy as np\n",
    "from matplotlib import pyplot as plt\n",
    "\n",
    "from sklearn.model_selection import train_test_split\n",
    "from sklearn.metrics import accuracy_score, classification_report, confusion_matrix\n",
    "\n",
    "from sklearn.linear_model import LogisticRegression\n",
    "from sklearn.ensemble import RandomForestClassifier\n",
    "from xgboost import XGBClassifier\n",
    "from sklearn import svm\n",
    "\n",
    "from sklearn.model_selection import cross_val_score, StratifiedKFold"
   ]
  },
  {
   "cell_type": "code",
   "execution_count": 20,
   "metadata": {},
   "outputs": [],
   "source": [
    "X, y = finalDf.drop('has_DM2', axis=1), finalDf['has_DM2']"
   ]
  },
  {
   "cell_type": "markdown",
   "metadata": {},
   "source": [
    "#### La precisión del modelo se evaluará utilizando el método de retención.\n",
    "Con este enfoque, dejamos una fracción de la muestra de entrenamiento (generalmente del 20% al 40%), entrenamos el modelo con el resto de los datos (60-80% de la muestra original) y calculamos alguna métrica de la calidad del modelo ( por ejemplo, el más simple es la proporción de respuestas correctas en el problema de clasificación) en una muestra diferida."
   ]
  },
  {
   "cell_type": "markdown",
   "metadata": {},
   "source": [
    "### TRAIN AND TEST SPLIT"
   ]
  },
  {
   "cell_type": "code",
   "execution_count": 21,
   "metadata": {},
   "outputs": [],
   "source": [
    "X_train, X_test, y_train, y_test = train_test_split(X, y, test_size=.3, random_state=7)"
   ]
  },
  {
   "cell_type": "markdown",
   "metadata": {},
   "source": [
    "### Escalado y normalizado"
   ]
  },
  {
   "cell_type": "code",
   "execution_count": 22,
   "metadata": {},
   "outputs": [],
   "source": [
    "from sklearn.preprocessing import StandardScaler\n",
    "\n",
    "std = StandardScaler()\n",
    "X_train = std.fit_transform(X_train)\n",
    "X_test = std.transform(X_test)"
   ]
  },
  {
   "cell_type": "code",
   "execution_count": 23,
   "metadata": {},
   "outputs": [
    {
     "data": {
      "text/plain": [
       "1.0    0.55\n",
       "0.0    0.45\n",
       "Name: has_DM2, dtype: float64"
      ]
     },
     "execution_count": 23,
     "metadata": {},
     "output_type": "execute_result"
    }
   ],
   "source": [
    "y.value_counts(normalize=True)"
   ]
  },
  {
   "cell_type": "code",
   "execution_count": 24,
   "metadata": {},
   "outputs": [
    {
     "data": {
      "image/png": "[encoded data removed]",
      "text/plain": [
       "<Figure size 576x396 with 1 Axes>"
      ]
     },
     "metadata": {},
     "output_type": "display_data"
    },
    {
     "data": {
      "text/plain": [
       "<AxesSubplot:title={'center':'Class Balance for 80 Instances'}, ylabel='support'>"
      ]
     },
     "execution_count": 24,
     "metadata": {},
     "output_type": "execute_result"
    }
   ],
   "source": [
    "# balanceo de clases en los conjuntos de test y train\n",
    "from yellowbrick.target import ClassBalance\n",
    "visualizer = ClassBalance(labels=[0, 1])\n",
    "visualizer.fit(y_train, y_test)\n",
    "visualizer.poof()"
   ]
  },
  {
   "cell_type": "markdown",
   "metadata": {},
   "source": [
    "### Predicción sin optimización de hiper parametros"
   ]
  },
  {
   "cell_type": "markdown",
   "metadata": {},
   "source": [
    "### K-NN"
   ]
  },
  {
   "cell_type": "code",
   "execution_count": 25,
   "metadata": {},
   "outputs": [
    {
     "data": {
      "text/plain": [
       "KNeighborsClassifier(n_neighbors=3)"
      ]
     },
     "execution_count": 25,
     "metadata": {},
     "output_type": "execute_result"
    }
   ],
   "source": [
    "from sklearn.neighbors import KNeighborsClassifier\n",
    "knn = KNeighborsClassifier(n_neighbors=3) \n",
    "knn.fit(X_train, y_train)  \n",
    "\n",
    "#print(knn.score(X_train, y_train))"
   ]
  },
  {
   "cell_type": "code",
   "execution_count": 26,
   "metadata": {},
   "outputs": [
    {
     "data": {
      "text/plain": [
       "0.875"
      ]
     },
     "execution_count": 26,
     "metadata": {},
     "output_type": "execute_result"
    }
   ],
   "source": [
    "pred_test_knn = knn.predict(X_test)\n",
    "knn_accuracy = accuracy_score(y_test, pred_test_knn)\n",
    "knn_accuracy"
   ]
  },
  {
   "cell_type": "code",
   "execution_count": 27,
   "metadata": {},
   "outputs": [
    {
     "ename": "NameError",
     "evalue": "name 'pred_test_logreg' is not defined",
     "output_type": "error",
     "traceback": [
      "\u001b[1;31m---------------------------------------------------------------------------\u001b[0m",
      "\u001b[1;31mNameError\u001b[0m                                 Traceback (most recent call last)",
      "\u001b[1;32m<ipython-input-27-bdc2739c20fc>\u001b[0m in \u001b[0;36m<module>\u001b[1;34m\u001b[0m\n\u001b[1;32m----> 1\u001b[1;33m \u001b[0mconfusion_matrix\u001b[0m\u001b[1;33m(\u001b[0m\u001b[0my_test\u001b[0m\u001b[1;33m,\u001b[0m \u001b[0mpred_test_logreg\u001b[0m\u001b[1;33m)\u001b[0m\u001b[1;33m\u001b[0m\u001b[1;33m\u001b[0m\u001b[0m\n\u001b[0m",
      "\u001b[1;31mNameError\u001b[0m: name 'pred_test_logreg' is not defined"
     ]
    }
   ],
   "source": [
    "confusion_matrix(y_test, pred_test_logreg)"
   ]
  },
  {
   "cell_type": "markdown",
   "metadata": {},
   "source": [
    "### Logistic Regression"
   ]
  },
  {
   "cell_type": "code",
   "execution_count": null,
   "metadata": {},
   "outputs": [],
   "source": [
    "logreg = LogisticRegression(random_state=17, solver='lbfgs', max_iter=1000)\n",
    "logreg.fit(X_train, y_train);"
   ]
  },
  {
   "cell_type": "code",
   "execution_count": null,
   "metadata": {},
   "outputs": [],
   "source": [
    "pred_test_logreg = logreg.predict(X_test)\n",
    "logreg_accuracy = accuracy_score(y_test, pred_test_logreg)\n",
    "logreg_accuracy"
   ]
  },
  {
   "cell_type": "code",
   "execution_count": null,
   "metadata": {},
   "outputs": [],
   "source": [
    "confusion_matrix(y_test, pred_test_logreg)"
   ]
  },
  {
   "cell_type": "markdown",
   "metadata": {},
   "source": [
    "### Random Forest"
   ]
  },
  {
   "cell_type": "code",
   "execution_count": null,
   "metadata": {},
   "outputs": [],
   "source": [
    "rf_clf = RandomForestClassifier(n_estimators=10, n_jobs=2, random_state=7)\n",
    "rf_clf.fit(X_train, y_train);"
   ]
  },
  {
   "cell_type": "code",
   "execution_count": null,
   "metadata": {},
   "outputs": [],
   "source": [
    "pred_test_rf_clf = rf_clf.predict(X_test)\n",
    "rf_accuracy = accuracy_score(y_test, pred_test_rf_clf)\n",
    "rf_accuracy"
   ]
  },
  {
   "cell_type": "code",
   "execution_count": null,
   "metadata": {},
   "outputs": [],
   "source": [
    "confusion_matrix(y_test, pred_test_rf_clf)"
   ]
  },
  {
   "cell_type": "markdown",
   "metadata": {},
   "source": [
    "### XGBoost"
   ]
  },
  {
   "cell_type": "code",
   "execution_count": null,
   "metadata": {},
   "outputs": [],
   "source": [
    "xgbc = XGBClassifier()\n",
    "xgbc.fit(X_train, y_train);"
   ]
  },
  {
   "cell_type": "code",
   "execution_count": null,
   "metadata": {},
   "outputs": [],
   "source": [
    "pred_test_xgbc = xgbc.predict(X_test)\n",
    "XGB_accuracy = accuracy_score(y_test, pred_test_xgbc)\n",
    "XGB_accuracy"
   ]
  },
  {
   "cell_type": "code",
   "execution_count": null,
   "metadata": {},
   "outputs": [],
   "source": [
    "confusion_matrix(y_test, pred_test_xgbc)"
   ]
  },
  {
   "cell_type": "markdown",
   "metadata": {},
   "source": [
    "### Support Vector Machines 1"
   ]
  },
  {
   "cell_type": "code",
   "execution_count": null,
   "metadata": {},
   "outputs": [],
   "source": [
    "clf_svm = svm.SVC(gamma='scale')\n",
    "clf_svm.fit(X_train, y_train);"
   ]
  },
  {
   "cell_type": "code",
   "execution_count": null,
   "metadata": {},
   "outputs": [],
   "source": [
    "pred_test_svm = clf_svm.predict(X_test)\n",
    "svm_accuracy = accuracy_score(y_test, pred_test_svm)\n",
    "svm_accuracy"
   ]
  },
  {
   "cell_type": "code",
   "execution_count": null,
   "metadata": {},
   "outputs": [],
   "source": [
    "confusion_matrix(y_test, pred_test_svm)"
   ]
  },
  {
   "cell_type": "markdown",
   "metadata": {},
   "source": [
    "### Support Vector Machines 2"
   ]
  },
  {
   "cell_type": "code",
   "execution_count": null,
   "metadata": {},
   "outputs": [],
   "source": [
    "clf_svm = svm.SVC(C=2, decision_function_shape='ovo', gamma='auto', kernel='linear',\n",
    "    random_state=1)\n",
    "clf_svm.fit(X_train, y_train);"
   ]
  },
  {
   "cell_type": "code",
   "execution_count": null,
   "metadata": {},
   "outputs": [],
   "source": [
    "pred_test_svm = clf_svm.predict(X_test)\n",
    "svm_accuracy = accuracy_score(y_test, pred_test_svm)\n",
    "svm_accuracy"
   ]
  },
  {
   "cell_type": "code",
   "execution_count": null,
   "metadata": {},
   "outputs": [],
   "source": [
    "confusion_matrix(y_test, pred_test_svm)"
   ]
  },
  {
   "cell_type": "markdown",
   "metadata": {},
   "source": [
    "## Primera validación cruzada"
   ]
  },
  {
   "cell_type": "code",
   "execution_count": null,
   "metadata": {},
   "outputs": [],
   "source": [
    "accuracy = pd.DataFrame({\n",
    "    'xgboost': [XGB_accuracy],\n",
    "    'logreg': [logreg_accuracy],\n",
    "    'random forest': [rf_accuracy],\n",
    "    'SVM': [svm_accuracy]\n",
    "    }, index=['accuracy'])"
   ]
  },
  {
   "cell_type": "code",
   "execution_count": null,
   "metadata": {},
   "outputs": [],
   "source": [
    "skf = StratifiedKFold(n_splits = 5, random_state=1, shuffle = True)"
   ]
  },
  {
   "cell_type": "code",
   "execution_count": null,
   "metadata": {},
   "outputs": [],
   "source": [
    "svm_cvs = cross_val_score(clf_svm, X_train, y_train, scoring='accuracy', cv = skf).mean()\n",
    "xgb_cvs = cross_val_score(xgbc, X_train, y_train, scoring='accuracy', cv = skf).mean()\n",
    "logreg_cvs = cross_val_score(logreg, X_train, y_train, scoring='accuracy', cv = skf).mean()\n",
    "rf_cvs = cross_val_score(rf_clf, X_train, y_train, scoring='accuracy', cv = skf).mean()"
   ]
  },
  {
   "cell_type": "code",
   "execution_count": null,
   "metadata": {},
   "outputs": [],
   "source": [
    "accuracy_cvs = pd.DataFrame({\n",
    "    'xgboost': [xgb_cvs],\n",
    "    'logreg': [logreg_cvs],\n",
    "    'random forest': [rf_cvs],\n",
    "    'SVM': [svm_cvs]\n",
    "    }, index=['cvs_mean'])"
   ]
  },
  {
   "cell_type": "code",
   "execution_count": null,
   "metadata": {},
   "outputs": [],
   "source": [
    "accuracy = accuracy.append(accuracy_cvs)"
   ]
  },
  {
   "cell_type": "code",
   "execution_count": null,
   "metadata": {},
   "outputs": [],
   "source": [
    "accuracy"
   ]
  },
  {
   "cell_type": "markdown",
   "metadata": {},
   "source": [
    "### Optimización de los hiper-parámetros de los algoritmos para SVM y LongReg"
   ]
  },
  {
   "cell_type": "markdown",
   "metadata": {},
   "source": [
    "#### Support Vecton Machive v2"
   ]
  },
  {
   "cell_type": "code",
   "execution_count": null,
   "metadata": {},
   "outputs": [],
   "source": [
    "parameter_candidates = [\n",
    "  {'C': [1, 10, 100, 1000], 'kernel': ['linear']},\n",
    "  {'C': [1, 10, 100, 1000], 'gamma': [0.001, 0.0001], 'kernel': ['rbf']},\n",
    "]"
   ]
  },
  {
   "cell_type": "code",
   "execution_count": null,
   "metadata": {},
   "outputs": [],
   "source": [
    "from sklearn.model_selection import cross_val_score, StratifiedKFold, GridSearchCV\n",
    "# Create a classifier object with the classifier and parameter candidates\n",
    "clf = GridSearchCV(estimator=clf_svm, param_grid=parameter_candidates, n_jobs=-1, cv=5)\n",
    "\n",
    "# Train the classifier on data1's feature and target data\n",
    "clf.fit(X_train, y_train)  "
   ]
  },
  {
   "cell_type": "code",
   "execution_count": null,
   "metadata": {},
   "outputs": [],
   "source": [
    "clf.best_score_"
   ]
  },
  {
   "cell_type": "code",
   "execution_count": null,
   "metadata": {},
   "outputs": [],
   "source": [
    "clf.best_estimator_"
   ]
  },
  {
   "cell_type": "code",
   "execution_count": null,
   "metadata": {},
   "outputs": [],
   "source": [
    "clf.score(X_test, y_test)"
   ]
  },
  {
   "cell_type": "code",
   "execution_count": null,
   "metadata": {},
   "outputs": [],
   "source": [
    "pred_test_svm = clf.best_estimator_.predict(X_test)\n",
    "svm_accuracy = accuracy_score(y_test, pred_test_svm)\n",
    "svm_accuracy"
   ]
  },
  {
   "cell_type": "code",
   "execution_count": null,
   "metadata": {},
   "outputs": [],
   "source": [
    "confusion_matrix(y_test, pred_test_svm)"
   ]
  },
  {
   "cell_type": "markdown",
   "metadata": {},
   "source": [
    "#### Regresión logistica"
   ]
  },
  {
   "cell_type": "code",
   "execution_count": null,
   "metadata": {},
   "outputs": [],
   "source": [
    "grid={\"C\":np.logspace(-3,3,7), \"penalty\":[\"l2\"]}"
   ]
  },
  {
   "cell_type": "code",
   "execution_count": null,
   "metadata": {},
   "outputs": [],
   "source": [
    "logreg_cv = GridSearchCV(logreg,grid,cv=4)\n",
    "logreg_cv.fit(X_train,y_train)"
   ]
  },
  {
   "cell_type": "code",
   "execution_count": null,
   "metadata": {},
   "outputs": [],
   "source": [
    "logreg_cv.best_params_"
   ]
  },
  {
   "cell_type": "code",
   "execution_count": null,
   "metadata": {},
   "outputs": [],
   "source": [
    "logreg_cv.best_score_"
   ]
  },
  {
   "cell_type": "code",
   "execution_count": null,
   "metadata": {},
   "outputs": [],
   "source": [
    "pred_test_logreg_cv = logreg_cv.best_estimator_.predict(X_test)"
   ]
  },
  {
   "cell_type": "code",
   "execution_count": null,
   "metadata": {},
   "outputs": [],
   "source": [
    "accuracy_score(y_test, pred_test_logreg_cv)"
   ]
  },
  {
   "cell_type": "code",
   "execution_count": null,
   "metadata": {},
   "outputs": [],
   "source": [
    "confusion_matrix(y_test, pred_test_logreg_cv)"
   ]
  },
  {
   "cell_type": "markdown",
   "metadata": {},
   "source": [
    "### Calidad del modelo (estimada en base a muestreo diferido)"
   ]
  },
  {
   "cell_type": "code",
   "execution_count": null,
   "metadata": {},
   "outputs": [],
   "source": [
    "accuracy = pd.DataFrame({\n",
    "    'xgboost': [XGB_accuracy],\n",
    "    'logreg': [logreg_accuracy],\n",
    "    'random forest': [rf_accuracy],\n",
    "    'SVM': [svm_accuracy]\n",
    "    }, index=['accuracy'])"
   ]
  },
  {
   "cell_type": "code",
   "execution_count": null,
   "metadata": {},
   "outputs": [],
   "source": [
    "accuracy = accuracy.append(accuracy_cvs)\n",
    "accuracy"
   ]
  },
  {
   "cell_type": "markdown",
   "metadata": {},
   "source": [
    "### Validación cruzada\n"
   ]
  },
  {
   "cell_type": "code",
   "execution_count": null,
   "metadata": {},
   "outputs": [],
   "source": [
    "skf = StratifiedKFold(n_splits = 5, random_state=1, shuffle = True)"
   ]
  },
  {
   "cell_type": "code",
   "execution_count": null,
   "metadata": {},
   "outputs": [],
   "source": [
    "svm_cvs = cross_val_score(clf_svm, X_train, y_train, scoring='accuracy', cv = skf).mean()\n",
    "xgb_cvs = cross_val_score(xgbc, X_train, y_train, scoring='accuracy', cv = skf).mean()\n",
    "logreg_cvs = cross_val_score(logreg, X_train, y_train, scoring='accuracy', cv = skf).mean()\n",
    "rf_cvs = cross_val_score(rf_clf, X_train, y_train, scoring='accuracy', cv = skf).mean()"
   ]
  },
  {
   "cell_type": "code",
   "execution_count": null,
   "metadata": {},
   "outputs": [],
   "source": [
    "accuracy_cvs = pd.DataFrame({\n",
    "    'xgboost': [xgb_cvs],\n",
    "    'logreg': [logreg_cvs],\n",
    "    'random forest': [rf_cvs],\n",
    "    'SVM': [svm_cvs]\n",
    "    }, index=['cvs_mean'])"
   ]
  },
  {
   "cell_type": "code",
   "execution_count": null,
   "metadata": {},
   "outputs": [],
   "source": [
    "accuracy = accuracy.append(accuracy_cvs)"
   ]
  },
  {
   "cell_type": "code",
   "execution_count": null,
   "metadata": {},
   "outputs": [],
   "source": [
    "accuracy"
   ]
  },
  {
   "cell_type": "markdown",
   "metadata": {},
   "source": [
    "### Classification Report and ROC Curve"
   ]
  },
  {
   "cell_type": "code",
   "execution_count": null,
   "metadata": {},
   "outputs": [],
   "source": [
    "print('**Logistic Regression**\\n',classification_report(y_test, pred_test_logreg, target_names=['0 - healthy','1 - diabet ']))"
   ]
  },
  {
   "cell_type": "code",
   "execution_count": null,
   "metadata": {},
   "outputs": [],
   "source": [
    "from sklearn.metrics import confusion_matrix,classification_report,roc_curve,accuracy_score,auc\n",
    "fpr,tpr,_=roc_curve(y_test,pred_test_logreg)\n",
    "#calculate AUC\n",
    "roc_auc=auc(fpr,tpr)\n",
    "print('ROC AUC: %0.2f' % roc_auc)\n",
    "#plot of ROC curve for a specified class\n",
    "plt.figure()\n",
    "plt.plot(fpr,tpr,label='ROC curve(area= %2.f)' %roc_auc)\n",
    "plt.plot([0,1],[0,1],'k--')\n",
    "plt.xlim([0.0,1.0])\n",
    "plt.ylim([0.0,1.05])\n",
    "plt.xlabel('False positive rate')\n",
    "plt.ylabel('True positive rate')\n",
    "plt.title('ROC curve')\n",
    "plt.legend(loc='lower right')\n",
    "plt.grid()\n",
    "plt.show()"
   ]
  },
  {
   "cell_type": "code",
   "execution_count": null,
   "metadata": {},
   "outputs": [],
   "source": [
    "print('**Random Forest**\\n',classification_report(y_test, pred_test_rf_clf, target_names=['0 - healthy','1 - diabet ']))"
   ]
  },
  {
   "cell_type": "code",
   "execution_count": null,
   "metadata": {},
   "outputs": [],
   "source": [
    "from sklearn.metrics import confusion_matrix,classification_report,roc_curve,accuracy_score,auc\n",
    "fpr,tpr,_=roc_curve(y_test,pred_test_rf_clf)\n",
    "#calculate AUC\n",
    "roc_auc=auc(fpr,tpr)\n",
    "print('ROC AUC: %0.2f' % roc_auc)\n",
    "#plot of ROC curve for a specified class\n",
    "plt.figure()\n",
    "plt.plot(fpr,tpr,label='ROC curve(area= %2.f)' %roc_auc)\n",
    "plt.plot([0,1],[0,1],'k--')\n",
    "plt.xlim([0.0,1.0])\n",
    "plt.ylim([0.0,1.05])\n",
    "plt.xlabel('False positive rate')\n",
    "plt.ylabel('True positive rate')\n",
    "plt.title('ROC curve')\n",
    "plt.legend(loc='lower right')\n",
    "plt.grid()\n",
    "plt.show()"
   ]
  },
  {
   "cell_type": "code",
   "execution_count": null,
   "metadata": {},
   "outputs": [],
   "source": [
    "print('**SVM**\\n',classification_report(y_test, pred_test_svm, target_names=['0 - healthy','1 - diabet ']))"
   ]
  },
  {
   "cell_type": "code",
   "execution_count": null,
   "metadata": {},
   "outputs": [],
   "source": [
    "from sklearn.metrics import confusion_matrix,classification_report,roc_curve,accuracy_score,auc\n",
    "fpr,tpr,_=roc_curve(y_test,pred_test_svm)\n",
    "#calculate AUC\n",
    "roc_auc=auc(fpr,tpr)\n",
    "print('ROC AUC: %0.2f' % roc_auc)\n",
    "#plot of ROC curve for a specified class\n",
    "plt.figure()\n",
    "plt.plot(fpr,tpr,label='ROC curve(area= %2.f)' %roc_auc)\n",
    "plt.plot([0,1],[0,1],'k--')\n",
    "plt.xlim([0.0,1.0])\n",
    "plt.ylim([0.0,1.05])\n",
    "plt.xlabel('False positive rate')\n",
    "plt.ylabel('True positive rate')\n",
    "plt.title('ROC curve')\n",
    "plt.legend(loc='lower right')\n",
    "plt.grid()\n",
    "plt.show()"
   ]
  },
  {
   "cell_type": "code",
   "execution_count": null,
   "metadata": {},
   "outputs": [],
   "source": [
    "print('**xgbc**\\n',classification_report(y_test, pred_test_xgbc, target_names=['0 - healthy','1 - diabet ']))"
   ]
  },
  {
   "cell_type": "code",
   "execution_count": null,
   "metadata": {},
   "outputs": [],
   "source": [
    "from sklearn.metrics import confusion_matrix,classification_report,roc_curve,accuracy_score,auc\n",
    "fpr,tpr,_=roc_curve(y_test,pred_test_xgbc)\n",
    "#calculate AUC\n",
    "roc_auc=auc(fpr,tpr)\n",
    "print('ROC AUC: %0.2f' % roc_auc)\n",
    "#plot of ROC curve for a specified class\n",
    "plt.figure()\n",
    "plt.plot(fpr,tpr,label='ROC curve(area= %2.f)' %roc_auc)\n",
    "plt.plot([0,1],[0,1],'k--')\n",
    "plt.xlim([0.0,1.0])\n",
    "plt.ylim([0.0,1.05])\n",
    "plt.xlabel('False positive rate')\n",
    "plt.ylabel('True positive rate')\n",
    "plt.title('ROC curve')\n",
    "plt.legend(loc='lower right')\n",
    "plt.grid()\n",
    "plt.show()"
   ]
  },
  {
   "cell_type": "markdown",
   "metadata": {},
   "source": [
    "###  (confusion matrix) "
   ]
  },
  {
   "cell_type": "code",
   "execution_count": null,
   "metadata": {},
   "outputs": [],
   "source": [
    "print('**Logistic Regression**\\n',confusion_matrix(y_test, pred_test_logreg))"
   ]
  },
  {
   "cell_type": "code",
   "execution_count": null,
   "metadata": {},
   "outputs": [],
   "source": [
    "print('**Random Forest**\\n',confusion_matrix(y_test, pred_test_rf_clf))"
   ]
  },
  {
   "cell_type": "code",
   "execution_count": null,
   "metadata": {},
   "outputs": [],
   "source": [
    "print('**SVM**\\n',confusion_matrix(y_test, pred_test_svm))"
   ]
  },
  {
   "cell_type": "code",
   "execution_count": null,
   "metadata": {},
   "outputs": [],
   "source": [
    "print('**xgbc**\\n',confusion_matrix(y_test, pred_test_xgbc))"
   ]
  },
  {
   "cell_type": "code",
   "execution_count": null,
   "metadata": {},
   "outputs": [],
   "source": []
  },
  {
   "cell_type": "markdown",
   "metadata": {},
   "source": [
    "## Artificial Neural Networks"
   ]
  },
  {
   "cell_type": "code",
   "execution_count": null,
   "metadata": {},
   "outputs": [],
   "source": [
    "from keras.models import Sequential, load_model\n",
    "from keras.layers import Dense, Dropout, Activation, Conv2D,MaxPooling2D, Flatten\n",
    "\n",
    "model = Sequential()\n",
    "model.add(Dense(32,input_shape=(X_train.shape[1],)))\n",
    "model.add(Activation('relu'))\n",
    "model.add(Dense(64,input_shape=(X_train.shape[1],)))\n",
    "model.add(Activation('relu'))\n",
    "model.add(Dense(64,input_shape=(X_train.shape[1],)))\n",
    "model.add(Activation('relu'))\n",
    "model.add(Dense(128,input_shape=(X_train.shape[1],)))\n",
    "model.add(Activation('relu'))\n",
    "model.add(Dense(128,input_shape=(X_train.shape[1],)))\n",
    "model.add(Activation('relu'))\n",
    "model.add(Dense(256,input_shape=(X_train.shape[1],)))\n",
    "model.add(Activation('relu'))\n",
    "model.add(Dense(256,input_shape=(X_train.shape[1],)))\n",
    "model.add(Activation('relu'))\n",
    "model.add(Dense(2))\n",
    "model.add(Activation('softmax'))"
   ]
  },
  {
   "cell_type": "code",
   "execution_count": null,
   "metadata": {},
   "outputs": [],
   "source": [
    "print(model.summary())\n",
    "model.compile(loss='sparse_categorical_crossentropy',\n",
    "              optimizer=\"sgd\",metrics=['accuracy'])\n",
    "model.fit(X_train, y_train, batch_size=10, epochs=50, verbose=1, validation_data=(X_test, y_test))\n",
    "loss, accuracy = model.evaluate(X_test,y_test, verbose=0)\n",
    "print(\"Loss : \"+str(loss))\n",
    "print(\"Accuracy :\"+str(accuracy*100.0))"
   ]
  },
  {
   "cell_type": "code",
   "execution_count": null,
   "metadata": {},
   "outputs": [],
   "source": []
  }
 ],
 "metadata": {
  "kernelspec": {
   "display_name": "Python 3",
   "language": "python",
   "name": "python3"
  },
  "language_info": {
   "codemirror_mode": {
    "name": "ipython",
    "version": 3
   },
   "file_extension": ".py",
   "mimetype": "text/x-python",
   "name": "python",
   "nbconvert_exporter": "python",
   "pygments_lexer": "ipython3",
   "version": "3.8.5"
  }
 },
 "nbformat": 4,
 "nbformat_minor": 4
}
