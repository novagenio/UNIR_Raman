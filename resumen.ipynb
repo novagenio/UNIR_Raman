{
 "cells": [
  {
   "cell_type": "code",
   "execution_count": null,
   "metadata": {},
   "outputs": [],
   "source": []
  },
  {
   "cell_type": "code",
   "execution_count": 90,
   "metadata": {},
   "outputs": [],
   "source": [
    "import pandas as pd"
   ]
  },
  {
   "cell_type": "code",
   "execution_count": 91,
   "metadata": {},
   "outputs": [],
   "source": [
    "import warnings\n",
    "warnings.filterwarnings('ignore')"
   ]
  },
  {
   "cell_type": "code",
   "execution_count": 92,
   "metadata": {},
   "outputs": [],
   "source": [
    "### read dataset innerArm"
   ]
  },
  {
   "cell_type": "code",
   "execution_count": 202,
   "metadata": {},
   "outputs": [
    {
     "data": {
      "text/html": [
       "<div>\n",
       "<style scoped>\n",
       "    .dataframe tbody tr th:only-of-type {\n",
       "        vertical-align: middle;\n",
       "    }\n",
       "\n",
       "    .dataframe tbody tr th {\n",
       "        vertical-align: top;\n",
       "    }\n",
       "\n",
       "    .dataframe thead th {\n",
       "        text-align: right;\n",
       "    }\n",
       "</style>\n",
       "<table border=\"1\" class=\"dataframe\">\n",
       "  <thead>\n",
       "    <tr style=\"text-align: right;\">\n",
       "      <th></th>\n",
       "      <th>patientID</th>\n",
       "      <th>has_DM2</th>\n",
       "      <th>Var2</th>\n",
       "      <th>Var3</th>\n",
       "      <th>Var4</th>\n",
       "      <th>Var5</th>\n",
       "      <th>Var6</th>\n",
       "      <th>Var7</th>\n",
       "      <th>Var8</th>\n",
       "      <th>Var9</th>\n",
       "      <th>...</th>\n",
       "      <th>Var3152</th>\n",
       "      <th>Var3153</th>\n",
       "      <th>Var3154</th>\n",
       "      <th>Var3155</th>\n",
       "      <th>Var3156</th>\n",
       "      <th>Var3157</th>\n",
       "      <th>Var3158</th>\n",
       "      <th>Var3159</th>\n",
       "      <th>Var3160</th>\n",
       "      <th>Var3161</th>\n",
       "    </tr>\n",
       "  </thead>\n",
       "  <tbody>\n",
       "    <tr>\n",
       "      <th>0</th>\n",
       "      <td>ramanShift</td>\n",
       "      <td>NaN</td>\n",
       "      <td>0.000000</td>\n",
       "      <td>1.000000</td>\n",
       "      <td>2.000000</td>\n",
       "      <td>3.000000</td>\n",
       "      <td>4.000000</td>\n",
       "      <td>5.000000</td>\n",
       "      <td>6.000000</td>\n",
       "      <td>7.000000</td>\n",
       "      <td>...</td>\n",
       "      <td>3150</td>\n",
       "      <td>3151</td>\n",
       "      <td>3152</td>\n",
       "      <td>3153</td>\n",
       "      <td>3154</td>\n",
       "      <td>3155</td>\n",
       "      <td>3156</td>\n",
       "      <td>3157</td>\n",
       "      <td>3158</td>\n",
       "      <td>3159</td>\n",
       "    </tr>\n",
       "    <tr>\n",
       "      <th>1</th>\n",
       "      <td>DM201</td>\n",
       "      <td>1.0</td>\n",
       "      <td>326.000000</td>\n",
       "      <td>326.000000</td>\n",
       "      <td>326.000000</td>\n",
       "      <td>326.000000</td>\n",
       "      <td>326.000000</td>\n",
       "      <td>326.000000</td>\n",
       "      <td>326.000000</td>\n",
       "      <td>326.000000</td>\n",
       "      <td>...</td>\n",
       "      <td>0</td>\n",
       "      <td>0</td>\n",
       "      <td>0</td>\n",
       "      <td>0</td>\n",
       "      <td>0</td>\n",
       "      <td>0</td>\n",
       "      <td>0</td>\n",
       "      <td>0</td>\n",
       "      <td>0</td>\n",
       "      <td>0</td>\n",
       "    </tr>\n",
       "    <tr>\n",
       "      <th>2</th>\n",
       "      <td>DM202</td>\n",
       "      <td>1.0</td>\n",
       "      <td>214.800000</td>\n",
       "      <td>214.800000</td>\n",
       "      <td>214.800000</td>\n",
       "      <td>214.800000</td>\n",
       "      <td>214.800000</td>\n",
       "      <td>214.800000</td>\n",
       "      <td>214.800000</td>\n",
       "      <td>214.800000</td>\n",
       "      <td>...</td>\n",
       "      <td>0</td>\n",
       "      <td>0</td>\n",
       "      <td>0</td>\n",
       "      <td>0</td>\n",
       "      <td>0</td>\n",
       "      <td>0</td>\n",
       "      <td>0</td>\n",
       "      <td>0</td>\n",
       "      <td>0</td>\n",
       "      <td>0</td>\n",
       "    </tr>\n",
       "    <tr>\n",
       "      <th>3</th>\n",
       "      <td>DM203</td>\n",
       "      <td>1.0</td>\n",
       "      <td>457.800000</td>\n",
       "      <td>457.800000</td>\n",
       "      <td>457.800000</td>\n",
       "      <td>457.800000</td>\n",
       "      <td>457.800000</td>\n",
       "      <td>457.800000</td>\n",
       "      <td>457.800000</td>\n",
       "      <td>457.800000</td>\n",
       "      <td>...</td>\n",
       "      <td>0</td>\n",
       "      <td>0</td>\n",
       "      <td>0</td>\n",
       "      <td>0</td>\n",
       "      <td>0</td>\n",
       "      <td>0</td>\n",
       "      <td>0</td>\n",
       "      <td>0</td>\n",
       "      <td>0</td>\n",
       "      <td>0</td>\n",
       "    </tr>\n",
       "    <tr>\n",
       "      <th>4</th>\n",
       "      <td>DM204</td>\n",
       "      <td>1.0</td>\n",
       "      <td>181.833333</td>\n",
       "      <td>181.833333</td>\n",
       "      <td>181.833333</td>\n",
       "      <td>181.833333</td>\n",
       "      <td>181.833333</td>\n",
       "      <td>181.833333</td>\n",
       "      <td>181.833333</td>\n",
       "      <td>181.833333</td>\n",
       "      <td>...</td>\n",
       "      <td>0</td>\n",
       "      <td>0</td>\n",
       "      <td>0</td>\n",
       "      <td>0</td>\n",
       "      <td>0</td>\n",
       "      <td>0</td>\n",
       "      <td>0</td>\n",
       "      <td>0</td>\n",
       "      <td>0</td>\n",
       "      <td>0</td>\n",
       "    </tr>\n",
       "  </tbody>\n",
       "</table>\n",
       "<p>5 rows × 3162 columns</p>\n",
       "</div>"
      ],
      "text/plain": [
       "    patientID  has_DM2        Var2        Var3        Var4        Var5  \\\n",
       "0  ramanShift      NaN    0.000000    1.000000    2.000000    3.000000   \n",
       "1       DM201      1.0  326.000000  326.000000  326.000000  326.000000   \n",
       "2       DM202      1.0  214.800000  214.800000  214.800000  214.800000   \n",
       "3       DM203      1.0  457.800000  457.800000  457.800000  457.800000   \n",
       "4       DM204      1.0  181.833333  181.833333  181.833333  181.833333   \n",
       "\n",
       "         Var6        Var7        Var8        Var9  ...  Var3152  Var3153  \\\n",
       "0    4.000000    5.000000    6.000000    7.000000  ...     3150     3151   \n",
       "1  326.000000  326.000000  326.000000  326.000000  ...        0        0   \n",
       "2  214.800000  214.800000  214.800000  214.800000  ...        0        0   \n",
       "3  457.800000  457.800000  457.800000  457.800000  ...        0        0   \n",
       "4  181.833333  181.833333  181.833333  181.833333  ...        0        0   \n",
       "\n",
       "   Var3154  Var3155  Var3156  Var3157  Var3158  Var3159  Var3160  Var3161  \n",
       "0     3152     3153     3154     3155     3156     3157     3158     3159  \n",
       "1        0        0        0        0        0        0        0        0  \n",
       "2        0        0        0        0        0        0        0        0  \n",
       "3        0        0        0        0        0        0        0        0  \n",
       "4        0        0        0        0        0        0        0        0  \n",
       "\n",
       "[5 rows x 3162 columns]"
      ]
     },
     "execution_count": 202,
     "metadata": {},
     "output_type": "execute_result"
    }
   ],
   "source": [
    "df = pd.read_csv(\"innerArm.csv\")\n",
    "#df = pd.read_csv(\"Merge.csv\")\n",
    "df.head(5)"
   ]
  },
  {
   "cell_type": "code",
   "execution_count": 203,
   "metadata": {},
   "outputs": [],
   "source": [
    "### delete 1rs row (wave) and drop patientID col"
   ]
  },
  {
   "cell_type": "code",
   "execution_count": 204,
   "metadata": {},
   "outputs": [],
   "source": [
    "patientID = df.pop('patientID')"
   ]
  },
  {
   "cell_type": "code",
   "execution_count": 205,
   "metadata": {},
   "outputs": [
    {
     "data": {
      "text/html": [
       "<div>\n",
       "<style scoped>\n",
       "    .dataframe tbody tr th:only-of-type {\n",
       "        vertical-align: middle;\n",
       "    }\n",
       "\n",
       "    .dataframe tbody tr th {\n",
       "        vertical-align: top;\n",
       "    }\n",
       "\n",
       "    .dataframe thead th {\n",
       "        text-align: right;\n",
       "    }\n",
       "</style>\n",
       "<table border=\"1\" class=\"dataframe\">\n",
       "  <thead>\n",
       "    <tr style=\"text-align: right;\">\n",
       "      <th></th>\n",
       "      <th>has_DM2</th>\n",
       "      <th>Var2</th>\n",
       "      <th>Var3</th>\n",
       "      <th>Var4</th>\n",
       "      <th>Var5</th>\n",
       "      <th>Var6</th>\n",
       "      <th>Var7</th>\n",
       "      <th>Var8</th>\n",
       "      <th>Var9</th>\n",
       "      <th>Var10</th>\n",
       "      <th>...</th>\n",
       "      <th>Var3152</th>\n",
       "      <th>Var3153</th>\n",
       "      <th>Var3154</th>\n",
       "      <th>Var3155</th>\n",
       "      <th>Var3156</th>\n",
       "      <th>Var3157</th>\n",
       "      <th>Var3158</th>\n",
       "      <th>Var3159</th>\n",
       "      <th>Var3160</th>\n",
       "      <th>Var3161</th>\n",
       "    </tr>\n",
       "  </thead>\n",
       "  <tbody>\n",
       "    <tr>\n",
       "      <th>0</th>\n",
       "      <td>1.0</td>\n",
       "      <td>326.000000</td>\n",
       "      <td>326.000000</td>\n",
       "      <td>326.000000</td>\n",
       "      <td>326.000000</td>\n",
       "      <td>326.000000</td>\n",
       "      <td>326.000000</td>\n",
       "      <td>326.000000</td>\n",
       "      <td>326.000000</td>\n",
       "      <td>326.000000</td>\n",
       "      <td>...</td>\n",
       "      <td>0</td>\n",
       "      <td>0</td>\n",
       "      <td>0</td>\n",
       "      <td>0</td>\n",
       "      <td>0</td>\n",
       "      <td>0</td>\n",
       "      <td>0</td>\n",
       "      <td>0</td>\n",
       "      <td>0</td>\n",
       "      <td>0</td>\n",
       "    </tr>\n",
       "    <tr>\n",
       "      <th>1</th>\n",
       "      <td>1.0</td>\n",
       "      <td>214.800000</td>\n",
       "      <td>214.800000</td>\n",
       "      <td>214.800000</td>\n",
       "      <td>214.800000</td>\n",
       "      <td>214.800000</td>\n",
       "      <td>214.800000</td>\n",
       "      <td>214.800000</td>\n",
       "      <td>214.800000</td>\n",
       "      <td>214.800000</td>\n",
       "      <td>...</td>\n",
       "      <td>0</td>\n",
       "      <td>0</td>\n",
       "      <td>0</td>\n",
       "      <td>0</td>\n",
       "      <td>0</td>\n",
       "      <td>0</td>\n",
       "      <td>0</td>\n",
       "      <td>0</td>\n",
       "      <td>0</td>\n",
       "      <td>0</td>\n",
       "    </tr>\n",
       "    <tr>\n",
       "      <th>2</th>\n",
       "      <td>1.0</td>\n",
       "      <td>457.800000</td>\n",
       "      <td>457.800000</td>\n",
       "      <td>457.800000</td>\n",
       "      <td>457.800000</td>\n",
       "      <td>457.800000</td>\n",
       "      <td>457.800000</td>\n",
       "      <td>457.800000</td>\n",
       "      <td>457.800000</td>\n",
       "      <td>457.800000</td>\n",
       "      <td>...</td>\n",
       "      <td>0</td>\n",
       "      <td>0</td>\n",
       "      <td>0</td>\n",
       "      <td>0</td>\n",
       "      <td>0</td>\n",
       "      <td>0</td>\n",
       "      <td>0</td>\n",
       "      <td>0</td>\n",
       "      <td>0</td>\n",
       "      <td>0</td>\n",
       "    </tr>\n",
       "    <tr>\n",
       "      <th>3</th>\n",
       "      <td>1.0</td>\n",
       "      <td>181.833333</td>\n",
       "      <td>181.833333</td>\n",
       "      <td>181.833333</td>\n",
       "      <td>181.833333</td>\n",
       "      <td>181.833333</td>\n",
       "      <td>181.833333</td>\n",
       "      <td>181.833333</td>\n",
       "      <td>181.833333</td>\n",
       "      <td>181.833333</td>\n",
       "      <td>...</td>\n",
       "      <td>0</td>\n",
       "      <td>0</td>\n",
       "      <td>0</td>\n",
       "      <td>0</td>\n",
       "      <td>0</td>\n",
       "      <td>0</td>\n",
       "      <td>0</td>\n",
       "      <td>0</td>\n",
       "      <td>0</td>\n",
       "      <td>0</td>\n",
       "    </tr>\n",
       "    <tr>\n",
       "      <th>4</th>\n",
       "      <td>1.0</td>\n",
       "      <td>179.800000</td>\n",
       "      <td>179.800000</td>\n",
       "      <td>179.800000</td>\n",
       "      <td>179.800000</td>\n",
       "      <td>179.800000</td>\n",
       "      <td>179.800000</td>\n",
       "      <td>179.800000</td>\n",
       "      <td>179.800000</td>\n",
       "      <td>179.800000</td>\n",
       "      <td>...</td>\n",
       "      <td>0</td>\n",
       "      <td>0</td>\n",
       "      <td>0</td>\n",
       "      <td>0</td>\n",
       "      <td>0</td>\n",
       "      <td>0</td>\n",
       "      <td>0</td>\n",
       "      <td>0</td>\n",
       "      <td>0</td>\n",
       "      <td>0</td>\n",
       "    </tr>\n",
       "  </tbody>\n",
       "</table>\n",
       "<p>5 rows × 3161 columns</p>\n",
       "</div>"
      ],
      "text/plain": [
       "   has_DM2        Var2        Var3        Var4        Var5        Var6  \\\n",
       "0      1.0  326.000000  326.000000  326.000000  326.000000  326.000000   \n",
       "1      1.0  214.800000  214.800000  214.800000  214.800000  214.800000   \n",
       "2      1.0  457.800000  457.800000  457.800000  457.800000  457.800000   \n",
       "3      1.0  181.833333  181.833333  181.833333  181.833333  181.833333   \n",
       "4      1.0  179.800000  179.800000  179.800000  179.800000  179.800000   \n",
       "\n",
       "         Var7        Var8        Var9       Var10  ...  Var3152  Var3153  \\\n",
       "0  326.000000  326.000000  326.000000  326.000000  ...        0        0   \n",
       "1  214.800000  214.800000  214.800000  214.800000  ...        0        0   \n",
       "2  457.800000  457.800000  457.800000  457.800000  ...        0        0   \n",
       "3  181.833333  181.833333  181.833333  181.833333  ...        0        0   \n",
       "4  179.800000  179.800000  179.800000  179.800000  ...        0        0   \n",
       "\n",
       "   Var3154  Var3155  Var3156  Var3157  Var3158  Var3159  Var3160  Var3161  \n",
       "0        0        0        0        0        0        0        0        0  \n",
       "1        0        0        0        0        0        0        0        0  \n",
       "2        0        0        0        0        0        0        0        0  \n",
       "3        0        0        0        0        0        0        0        0  \n",
       "4        0        0        0        0        0        0        0        0  \n",
       "\n",
       "[5 rows x 3161 columns]"
      ]
     },
     "execution_count": 205,
     "metadata": {},
     "output_type": "execute_result"
    }
   ],
   "source": [
    "df.drop(0, inplace=True)\n",
    "df = df.reset_index(drop=True)\n",
    "df.head(5)"
   ]
  },
  {
   "cell_type": "markdown",
   "metadata": {},
   "source": [
    "### Crop Data to 800-1800 cm^-1 ###"
   ]
  },
  {
   "cell_type": "code",
   "execution_count": 206,
   "metadata": {},
   "outputs": [],
   "source": [
    "import re\n",
    "droped_columns = []\n",
    "df.drop(['Var2'], axis = 'columns', inplace=True)\n",
    "for col in df.columns:\n",
    "    #print(\"------------------------------>\" + re.findall(r'\\d+', col)[0])\n",
    "    if int(re.findall(r'\\d+', col)[0]) > 2:\n",
    "        #print(re.findall(r'\\d+', col)[0])\n",
    "        if int(re.findall(r'\\d+', col)[0]) <= 800 or int(re.findall(r'\\d+', col)[0]) >= 1800:\n",
    "            droped_columns.append(col)"
   ]
  },
  {
   "cell_type": "code",
   "execution_count": 207,
   "metadata": {},
   "outputs": [],
   "source": [
    "df.drop(droped_columns, axis=1, inplace=True)\n",
    "df = df.reset_index(drop=True)"
   ]
  },
  {
   "cell_type": "code",
   "execution_count": 208,
   "metadata": {},
   "outputs": [
    {
     "data": {
      "text/html": [
       "<div>\n",
       "<style scoped>\n",
       "    .dataframe tbody tr th:only-of-type {\n",
       "        vertical-align: middle;\n",
       "    }\n",
       "\n",
       "    .dataframe tbody tr th {\n",
       "        vertical-align: top;\n",
       "    }\n",
       "\n",
       "    .dataframe thead th {\n",
       "        text-align: right;\n",
       "    }\n",
       "</style>\n",
       "<table border=\"1\" class=\"dataframe\">\n",
       "  <thead>\n",
       "    <tr style=\"text-align: right;\">\n",
       "      <th></th>\n",
       "      <th>has_DM2</th>\n",
       "      <th>Var801</th>\n",
       "      <th>Var802</th>\n",
       "      <th>Var803</th>\n",
       "      <th>Var804</th>\n",
       "      <th>Var805</th>\n",
       "      <th>Var806</th>\n",
       "      <th>Var807</th>\n",
       "      <th>Var808</th>\n",
       "      <th>Var809</th>\n",
       "      <th>...</th>\n",
       "      <th>Var1790</th>\n",
       "      <th>Var1791</th>\n",
       "      <th>Var1792</th>\n",
       "      <th>Var1793</th>\n",
       "      <th>Var1794</th>\n",
       "      <th>Var1795</th>\n",
       "      <th>Var1796</th>\n",
       "      <th>Var1797</th>\n",
       "      <th>Var1798</th>\n",
       "      <th>Var1799</th>\n",
       "    </tr>\n",
       "  </thead>\n",
       "  <tbody>\n",
       "    <tr>\n",
       "      <th>0</th>\n",
       "      <td>1.0</td>\n",
       "      <td>342.313924</td>\n",
       "      <td>345.831464</td>\n",
       "      <td>350.693433</td>\n",
       "      <td>351.977234</td>\n",
       "      <td>350.031293</td>\n",
       "      <td>347.838913</td>\n",
       "      <td>345.068044</td>\n",
       "      <td>342.571307</td>\n",
       "      <td>343.545436</td>\n",
       "      <td>...</td>\n",
       "      <td>108.538098</td>\n",
       "      <td>110.498659</td>\n",
       "      <td>112.321475</td>\n",
       "      <td>113.032614</td>\n",
       "      <td>113.333334</td>\n",
       "      <td>113.333335</td>\n",
       "      <td>108.184039</td>\n",
       "      <td>104.333334</td>\n",
       "      <td>104.333335</td>\n",
       "      <td>107.969381</td>\n",
       "    </tr>\n",
       "    <tr>\n",
       "      <th>1</th>\n",
       "      <td>1.0</td>\n",
       "      <td>229.115253</td>\n",
       "      <td>232.168018</td>\n",
       "      <td>235.309601</td>\n",
       "      <td>240.293143</td>\n",
       "      <td>246.939294</td>\n",
       "      <td>248.781149</td>\n",
       "      <td>239.345218</td>\n",
       "      <td>230.797467</td>\n",
       "      <td>233.495050</td>\n",
       "      <td>...</td>\n",
       "      <td>77.605727</td>\n",
       "      <td>81.768669</td>\n",
       "      <td>83.581151</td>\n",
       "      <td>76.144672</td>\n",
       "      <td>72.084814</td>\n",
       "      <td>70.499059</td>\n",
       "      <td>72.688575</td>\n",
       "      <td>75.239578</td>\n",
       "      <td>78.048454</td>\n",
       "      <td>76.333566</td>\n",
       "    </tr>\n",
       "    <tr>\n",
       "      <th>2</th>\n",
       "      <td>1.0</td>\n",
       "      <td>478.687152</td>\n",
       "      <td>482.391803</td>\n",
       "      <td>487.687622</td>\n",
       "      <td>490.152795</td>\n",
       "      <td>490.062988</td>\n",
       "      <td>487.530145</td>\n",
       "      <td>479.262476</td>\n",
       "      <td>471.942273</td>\n",
       "      <td>476.618085</td>\n",
       "      <td>...</td>\n",
       "      <td>157.377112</td>\n",
       "      <td>165.926355</td>\n",
       "      <td>173.777301</td>\n",
       "      <td>169.998114</td>\n",
       "      <td>163.120084</td>\n",
       "      <td>153.971487</td>\n",
       "      <td>155.345288</td>\n",
       "      <td>156.982519</td>\n",
       "      <td>157.593143</td>\n",
       "      <td>160.385635</td>\n",
       "    </tr>\n",
       "    <tr>\n",
       "      <th>3</th>\n",
       "      <td>1.0</td>\n",
       "      <td>193.241297</td>\n",
       "      <td>195.137540</td>\n",
       "      <td>197.531128</td>\n",
       "      <td>198.902690</td>\n",
       "      <td>199.351753</td>\n",
       "      <td>198.346733</td>\n",
       "      <td>193.928314</td>\n",
       "      <td>189.964976</td>\n",
       "      <td>191.763367</td>\n",
       "      <td>...</td>\n",
       "      <td>60.614281</td>\n",
       "      <td>62.855419</td>\n",
       "      <td>64.535575</td>\n",
       "      <td>62.402160</td>\n",
       "      <td>61.675997</td>\n",
       "      <td>61.980951</td>\n",
       "      <td>61.809285</td>\n",
       "      <td>62.640090</td>\n",
       "      <td>65.896757</td>\n",
       "      <td>65.720650</td>\n",
       "    </tr>\n",
       "    <tr>\n",
       "      <th>4</th>\n",
       "      <td>1.0</td>\n",
       "      <td>196.158227</td>\n",
       "      <td>196.397023</td>\n",
       "      <td>196.127747</td>\n",
       "      <td>197.604958</td>\n",
       "      <td>200.658591</td>\n",
       "      <td>201.887231</td>\n",
       "      <td>198.831784</td>\n",
       "      <td>195.591904</td>\n",
       "      <td>190.016901</td>\n",
       "      <td>...</td>\n",
       "      <td>55.805688</td>\n",
       "      <td>61.699855</td>\n",
       "      <td>66.605765</td>\n",
       "      <td>61.119841</td>\n",
       "      <td>58.799999</td>\n",
       "      <td>58.800000</td>\n",
       "      <td>59.372144</td>\n",
       "      <td>60.712585</td>\n",
       "      <td>63.765710</td>\n",
       "      <td>64.557598</td>\n",
       "    </tr>\n",
       "  </tbody>\n",
       "</table>\n",
       "<p>5 rows × 1000 columns</p>\n",
       "</div>"
      ],
      "text/plain": [
       "   has_DM2      Var801      Var802      Var803      Var804      Var805  \\\n",
       "0      1.0  342.313924  345.831464  350.693433  351.977234  350.031293   \n",
       "1      1.0  229.115253  232.168018  235.309601  240.293143  246.939294   \n",
       "2      1.0  478.687152  482.391803  487.687622  490.152795  490.062988   \n",
       "3      1.0  193.241297  195.137540  197.531128  198.902690  199.351753   \n",
       "4      1.0  196.158227  196.397023  196.127747  197.604958  200.658591   \n",
       "\n",
       "       Var806      Var807      Var808      Var809  ...     Var1790  \\\n",
       "0  347.838913  345.068044  342.571307  343.545436  ...  108.538098   \n",
       "1  248.781149  239.345218  230.797467  233.495050  ...   77.605727   \n",
       "2  487.530145  479.262476  471.942273  476.618085  ...  157.377112   \n",
       "3  198.346733  193.928314  189.964976  191.763367  ...   60.614281   \n",
       "4  201.887231  198.831784  195.591904  190.016901  ...   55.805688   \n",
       "\n",
       "      Var1791     Var1792     Var1793     Var1794     Var1795     Var1796  \\\n",
       "0  110.498659  112.321475  113.032614  113.333334  113.333335  108.184039   \n",
       "1   81.768669   83.581151   76.144672   72.084814   70.499059   72.688575   \n",
       "2  165.926355  173.777301  169.998114  163.120084  153.971487  155.345288   \n",
       "3   62.855419   64.535575   62.402160   61.675997   61.980951   61.809285   \n",
       "4   61.699855   66.605765   61.119841   58.799999   58.800000   59.372144   \n",
       "\n",
       "      Var1797     Var1798     Var1799  \n",
       "0  104.333334  104.333335  107.969381  \n",
       "1   75.239578   78.048454   76.333566  \n",
       "2  156.982519  157.593143  160.385635  \n",
       "3   62.640090   65.896757   65.720650  \n",
       "4   60.712585   63.765710   64.557598  \n",
       "\n",
       "[5 rows x 1000 columns]"
      ]
     },
     "execution_count": 208,
     "metadata": {},
     "output_type": "execute_result"
    }
   ],
   "source": [
    "df.head()"
   ]
  },
  {
   "cell_type": "markdown",
   "metadata": {},
   "source": [
    "### Matriz Correlación antes PCA. Dada la dimención de atributos es imposible leer nada."
   ]
  },
  {
   "cell_type": "code",
   "execution_count": 209,
   "metadata": {},
   "outputs": [
    {
     "data": {
      "text/plain": [
       "Text(0.5, 1.0, 'Correlation ')"
      ]
     },
     "execution_count": 209,
     "metadata": {},
     "output_type": "execute_result"
    },
    {
     "data": {
      "image/png": "[encoded data removed]",
      "text/plain": [
       "<Figure size 504x360 with 2 Axes>"
      ]
     },
     "metadata": {},
     "output_type": "display_data"
    }
   ],
   "source": [
    "import seaborn as sns\n",
    "import matplotlib.pyplot as plt\n",
    "corr=df.corr()\n",
    "fig = plt.figure(figsize=(7,5))\n",
    "r = sns.heatmap(corr, cmap='Purples')\n",
    "r.set_title(\"Correlation \")"
   ]
  },
  {
   "cell_type": "markdown",
   "metadata": {},
   "source": [
    "### PCA using 15 components (segun el paper)"
   ]
  },
  {
   "cell_type": "code",
   "execution_count": 210,
   "metadata": {},
   "outputs": [
    {
     "data": {
      "text/html": [
       "<div>\n",
       "<style scoped>\n",
       "    .dataframe tbody tr th:only-of-type {\n",
       "        vertical-align: middle;\n",
       "    }\n",
       "\n",
       "    .dataframe tbody tr th {\n",
       "        vertical-align: top;\n",
       "    }\n",
       "\n",
       "    .dataframe thead th {\n",
       "        text-align: right;\n",
       "    }\n",
       "</style>\n",
       "<table border=\"1\" class=\"dataframe\">\n",
       "  <thead>\n",
       "    <tr style=\"text-align: right;\">\n",
       "      <th></th>\n",
       "      <th>has_DM2</th>\n",
       "      <th>Var801</th>\n",
       "      <th>Var802</th>\n",
       "      <th>Var803</th>\n",
       "      <th>Var804</th>\n",
       "      <th>Var805</th>\n",
       "      <th>Var806</th>\n",
       "      <th>Var807</th>\n",
       "      <th>Var808</th>\n",
       "      <th>Var809</th>\n",
       "      <th>...</th>\n",
       "      <th>Var1790</th>\n",
       "      <th>Var1791</th>\n",
       "      <th>Var1792</th>\n",
       "      <th>Var1793</th>\n",
       "      <th>Var1794</th>\n",
       "      <th>Var1795</th>\n",
       "      <th>Var1796</th>\n",
       "      <th>Var1797</th>\n",
       "      <th>Var1798</th>\n",
       "      <th>Var1799</th>\n",
       "    </tr>\n",
       "  </thead>\n",
       "  <tbody>\n",
       "    <tr>\n",
       "      <th>0</th>\n",
       "      <td>1.0</td>\n",
       "      <td>342.313924</td>\n",
       "      <td>345.831464</td>\n",
       "      <td>350.693433</td>\n",
       "      <td>351.977234</td>\n",
       "      <td>350.031293</td>\n",
       "      <td>347.838913</td>\n",
       "      <td>345.068044</td>\n",
       "      <td>342.571307</td>\n",
       "      <td>343.545436</td>\n",
       "      <td>...</td>\n",
       "      <td>108.538098</td>\n",
       "      <td>110.498659</td>\n",
       "      <td>112.321475</td>\n",
       "      <td>113.032614</td>\n",
       "      <td>113.333334</td>\n",
       "      <td>113.333335</td>\n",
       "      <td>108.184039</td>\n",
       "      <td>104.333334</td>\n",
       "      <td>104.333335</td>\n",
       "      <td>107.969381</td>\n",
       "    </tr>\n",
       "    <tr>\n",
       "      <th>1</th>\n",
       "      <td>1.0</td>\n",
       "      <td>229.115253</td>\n",
       "      <td>232.168018</td>\n",
       "      <td>235.309601</td>\n",
       "      <td>240.293143</td>\n",
       "      <td>246.939294</td>\n",
       "      <td>248.781149</td>\n",
       "      <td>239.345218</td>\n",
       "      <td>230.797467</td>\n",
       "      <td>233.495050</td>\n",
       "      <td>...</td>\n",
       "      <td>77.605727</td>\n",
       "      <td>81.768669</td>\n",
       "      <td>83.581151</td>\n",
       "      <td>76.144672</td>\n",
       "      <td>72.084814</td>\n",
       "      <td>70.499059</td>\n",
       "      <td>72.688575</td>\n",
       "      <td>75.239578</td>\n",
       "      <td>78.048454</td>\n",
       "      <td>76.333566</td>\n",
       "    </tr>\n",
       "    <tr>\n",
       "      <th>2</th>\n",
       "      <td>1.0</td>\n",
       "      <td>478.687152</td>\n",
       "      <td>482.391803</td>\n",
       "      <td>487.687622</td>\n",
       "      <td>490.152795</td>\n",
       "      <td>490.062988</td>\n",
       "      <td>487.530145</td>\n",
       "      <td>479.262476</td>\n",
       "      <td>471.942273</td>\n",
       "      <td>476.618085</td>\n",
       "      <td>...</td>\n",
       "      <td>157.377112</td>\n",
       "      <td>165.926355</td>\n",
       "      <td>173.777301</td>\n",
       "      <td>169.998114</td>\n",
       "      <td>163.120084</td>\n",
       "      <td>153.971487</td>\n",
       "      <td>155.345288</td>\n",
       "      <td>156.982519</td>\n",
       "      <td>157.593143</td>\n",
       "      <td>160.385635</td>\n",
       "    </tr>\n",
       "    <tr>\n",
       "      <th>3</th>\n",
       "      <td>1.0</td>\n",
       "      <td>193.241297</td>\n",
       "      <td>195.137540</td>\n",
       "      <td>197.531128</td>\n",
       "      <td>198.902690</td>\n",
       "      <td>199.351753</td>\n",
       "      <td>198.346733</td>\n",
       "      <td>193.928314</td>\n",
       "      <td>189.964976</td>\n",
       "      <td>191.763367</td>\n",
       "      <td>...</td>\n",
       "      <td>60.614281</td>\n",
       "      <td>62.855419</td>\n",
       "      <td>64.535575</td>\n",
       "      <td>62.402160</td>\n",
       "      <td>61.675997</td>\n",
       "      <td>61.980951</td>\n",
       "      <td>61.809285</td>\n",
       "      <td>62.640090</td>\n",
       "      <td>65.896757</td>\n",
       "      <td>65.720650</td>\n",
       "    </tr>\n",
       "    <tr>\n",
       "      <th>4</th>\n",
       "      <td>1.0</td>\n",
       "      <td>196.158227</td>\n",
       "      <td>196.397023</td>\n",
       "      <td>196.127747</td>\n",
       "      <td>197.604958</td>\n",
       "      <td>200.658591</td>\n",
       "      <td>201.887231</td>\n",
       "      <td>198.831784</td>\n",
       "      <td>195.591904</td>\n",
       "      <td>190.016901</td>\n",
       "      <td>...</td>\n",
       "      <td>55.805688</td>\n",
       "      <td>61.699855</td>\n",
       "      <td>66.605765</td>\n",
       "      <td>61.119841</td>\n",
       "      <td>58.799999</td>\n",
       "      <td>58.800000</td>\n",
       "      <td>59.372144</td>\n",
       "      <td>60.712585</td>\n",
       "      <td>63.765710</td>\n",
       "      <td>64.557598</td>\n",
       "    </tr>\n",
       "  </tbody>\n",
       "</table>\n",
       "<p>5 rows × 1000 columns</p>\n",
       "</div>"
      ],
      "text/plain": [
       "   has_DM2      Var801      Var802      Var803      Var804      Var805  \\\n",
       "0      1.0  342.313924  345.831464  350.693433  351.977234  350.031293   \n",
       "1      1.0  229.115253  232.168018  235.309601  240.293143  246.939294   \n",
       "2      1.0  478.687152  482.391803  487.687622  490.152795  490.062988   \n",
       "3      1.0  193.241297  195.137540  197.531128  198.902690  199.351753   \n",
       "4      1.0  196.158227  196.397023  196.127747  197.604958  200.658591   \n",
       "\n",
       "       Var806      Var807      Var808      Var809  ...     Var1790  \\\n",
       "0  347.838913  345.068044  342.571307  343.545436  ...  108.538098   \n",
       "1  248.781149  239.345218  230.797467  233.495050  ...   77.605727   \n",
       "2  487.530145  479.262476  471.942273  476.618085  ...  157.377112   \n",
       "3  198.346733  193.928314  189.964976  191.763367  ...   60.614281   \n",
       "4  201.887231  198.831784  195.591904  190.016901  ...   55.805688   \n",
       "\n",
       "      Var1791     Var1792     Var1793     Var1794     Var1795     Var1796  \\\n",
       "0  110.498659  112.321475  113.032614  113.333334  113.333335  108.184039   \n",
       "1   81.768669   83.581151   76.144672   72.084814   70.499059   72.688575   \n",
       "2  165.926355  173.777301  169.998114  163.120084  153.971487  155.345288   \n",
       "3   62.855419   64.535575   62.402160   61.675997   61.980951   61.809285   \n",
       "4   61.699855   66.605765   61.119841   58.799999   58.800000   59.372144   \n",
       "\n",
       "      Var1797     Var1798     Var1799  \n",
       "0  104.333334  104.333335  107.969381  \n",
       "1   75.239578   78.048454   76.333566  \n",
       "2  156.982519  157.593143  160.385635  \n",
       "3   62.640090   65.896757   65.720650  \n",
       "4   60.712585   63.765710   64.557598  \n",
       "\n",
       "[5 rows x 1000 columns]"
      ]
     },
     "execution_count": 210,
     "metadata": {},
     "output_type": "execute_result"
    }
   ],
   "source": [
    "df.head(5)"
   ]
  },
  {
   "cell_type": "code",
   "execution_count": 211,
   "metadata": {},
   "outputs": [],
   "source": [
    "from sklearn.preprocessing import StandardScaler\n",
    "\n",
    "# Separating out the features\n",
    "#x = df.iloc[:,2:3159]\n",
    "x = df.iloc[:,0:1799]\n",
    "# Separating out the target\n",
    "y = df.loc[:,['has_DM2']].values\n",
    "# Standardizing the features\n",
    "x = StandardScaler().fit_transform(x)"
   ]
  },
  {
   "cell_type": "code",
   "execution_count": 212,
   "metadata": {},
   "outputs": [
    {
     "data": {
      "text/plain": [
       "<matplotlib.legend.Legend at 0x239bbe8da30>"
      ]
     },
     "execution_count": 212,
     "metadata": {},
     "output_type": "execute_result"
    },
    {
     "data": {
      "image/png": "[encoded data removed]",
      "text/plain": [
       "<Figure size 360x360 with 1 Axes>"
      ]
     },
     "metadata": {},
     "output_type": "display_data"
    }
   ],
   "source": [
    "from sklearn.decomposition import PCA\n",
    "pca = PCA()\n",
    "pca.fit(x)\n",
    "cumsum = np.cumsum(pca.explained_variance_ratio_)*100\n",
    "d = [n for n in range(len(cumsum))]\n",
    "plt.figure(figsize=(5, 5))\n",
    "plt.plot(d,cumsum, color = 'red',label='cumulative explained variance')\n",
    "plt.title('Cumulative Explained Variance as a Function of the Number of Components')\n",
    "plt.ylabel('Cumulative Explained variance')\n",
    "plt.xlabel('Principal components')\n",
    "plt.axhline(y = 95, color='k', linestyle='--', label = '95% Explained Variance')\n",
    "plt.legend(loc='best')"
   ]
  },
  {
   "cell_type": "code",
   "execution_count": 213,
   "metadata": {},
   "outputs": [],
   "source": [
    "from sklearn.decomposition import PCA\n",
    "pca = PCA(n_components=15)\n",
    "principalComponents = pca.fit_transform(x)\n",
    "principalDf = pd.DataFrame(data = principalComponents)"
   ]
  },
  {
   "cell_type": "code",
   "execution_count": 214,
   "metadata": {},
   "outputs": [
    {
     "data": {
      "text/html": [
       "<div>\n",
       "<style scoped>\n",
       "    .dataframe tbody tr th:only-of-type {\n",
       "        vertical-align: middle;\n",
       "    }\n",
       "\n",
       "    .dataframe tbody tr th {\n",
       "        vertical-align: top;\n",
       "    }\n",
       "\n",
       "    .dataframe thead th {\n",
       "        text-align: right;\n",
       "    }\n",
       "</style>\n",
       "<table border=\"1\" class=\"dataframe\">\n",
       "  <thead>\n",
       "    <tr style=\"text-align: right;\">\n",
       "      <th></th>\n",
       "      <th>0</th>\n",
       "      <th>1</th>\n",
       "      <th>2</th>\n",
       "      <th>3</th>\n",
       "      <th>4</th>\n",
       "      <th>5</th>\n",
       "      <th>6</th>\n",
       "      <th>7</th>\n",
       "      <th>8</th>\n",
       "      <th>9</th>\n",
       "      <th>10</th>\n",
       "      <th>11</th>\n",
       "      <th>12</th>\n",
       "      <th>13</th>\n",
       "      <th>14</th>\n",
       "      <th>has_DM2</th>\n",
       "    </tr>\n",
       "  </thead>\n",
       "  <tbody>\n",
       "    <tr>\n",
       "      <th>0</th>\n",
       "      <td>27.839885</td>\n",
       "      <td>1.478445</td>\n",
       "      <td>1.680301</td>\n",
       "      <td>-0.810032</td>\n",
       "      <td>-0.622960</td>\n",
       "      <td>0.556289</td>\n",
       "      <td>0.391889</td>\n",
       "      <td>-0.017753</td>\n",
       "      <td>0.038826</td>\n",
       "      <td>0.289896</td>\n",
       "      <td>-0.620386</td>\n",
       "      <td>0.460089</td>\n",
       "      <td>-0.836813</td>\n",
       "      <td>0.047380</td>\n",
       "      <td>0.557342</td>\n",
       "      <td>1.0</td>\n",
       "    </tr>\n",
       "    <tr>\n",
       "      <th>1</th>\n",
       "      <td>-5.224356</td>\n",
       "      <td>-0.568513</td>\n",
       "      <td>1.666516</td>\n",
       "      <td>-1.209661</td>\n",
       "      <td>-0.408404</td>\n",
       "      <td>0.058839</td>\n",
       "      <td>-0.111337</td>\n",
       "      <td>-0.392976</td>\n",
       "      <td>-0.598495</td>\n",
       "      <td>-0.154812</td>\n",
       "      <td>-0.571003</td>\n",
       "      <td>-0.743891</td>\n",
       "      <td>0.054927</td>\n",
       "      <td>-0.093547</td>\n",
       "      <td>-0.310165</td>\n",
       "      <td>1.0</td>\n",
       "    </tr>\n",
       "    <tr>\n",
       "      <th>2</th>\n",
       "      <td>73.148583</td>\n",
       "      <td>1.793211</td>\n",
       "      <td>0.158606</td>\n",
       "      <td>-0.452376</td>\n",
       "      <td>0.113284</td>\n",
       "      <td>0.215662</td>\n",
       "      <td>-0.192439</td>\n",
       "      <td>-0.860852</td>\n",
       "      <td>0.279767</td>\n",
       "      <td>0.061045</td>\n",
       "      <td>0.139982</td>\n",
       "      <td>0.335151</td>\n",
       "      <td>0.568602</td>\n",
       "      <td>-0.533450</td>\n",
       "      <td>-0.405420</td>\n",
       "      <td>1.0</td>\n",
       "    </tr>\n",
       "  </tbody>\n",
       "</table>\n",
       "</div>"
      ],
      "text/plain": [
       "           0         1         2         3         4         5         6  \\\n",
       "0  27.839885  1.478445  1.680301 -0.810032 -0.622960  0.556289  0.391889   \n",
       "1  -5.224356 -0.568513  1.666516 -1.209661 -0.408404  0.058839 -0.111337   \n",
       "2  73.148583  1.793211  0.158606 -0.452376  0.113284  0.215662 -0.192439   \n",
       "\n",
       "          7         8         9        10        11        12        13  \\\n",
       "0 -0.017753  0.038826  0.289896 -0.620386  0.460089 -0.836813  0.047380   \n",
       "1 -0.392976 -0.598495 -0.154812 -0.571003 -0.743891  0.054927 -0.093547   \n",
       "2 -0.860852  0.279767  0.061045  0.139982  0.335151  0.568602 -0.533450   \n",
       "\n",
       "         14  has_DM2  \n",
       "0  0.557342      1.0  \n",
       "1 -0.310165      1.0  \n",
       "2 -0.405420      1.0  "
      ]
     },
     "execution_count": 214,
     "metadata": {},
     "output_type": "execute_result"
    }
   ],
   "source": [
    "finalDf = pd.concat([principalDf, df[['has_DM2']]], axis = 1)\n",
    "finalDf.head(3)"
   ]
  },
  {
   "cell_type": "code",
   "execution_count": 215,
   "metadata": {},
   "outputs": [],
   "source": [
    "#finalDf.describe()"
   ]
  },
  {
   "cell_type": "markdown",
   "metadata": {},
   "source": [
    "### Matris correlación despues PCA 15"
   ]
  },
  {
   "cell_type": "code",
   "execution_count": 216,
   "metadata": {},
   "outputs": [
    {
     "data": {
      "text/plain": [
       "Text(0.5, 1.0, 'Correlation ')"
      ]
     },
     "execution_count": 216,
     "metadata": {},
     "output_type": "execute_result"
    },
    {
     "data": {
      "image/png": "[encoded data removed]",
      "text/plain": [
       "<Figure size 504x360 with 2 Axes>"
      ]
     },
     "metadata": {},
     "output_type": "display_data"
    }
   ],
   "source": [
    "import seaborn as sns\n",
    "import matplotlib.pyplot as plt\n",
    "corr=finalDf.corr()\n",
    "fig = plt.figure(figsize=(7,5))\n",
    "r = sns.heatmap(corr, cmap='Purples')\n",
    "r.set_title(\"Correlation \")"
   ]
  },
  {
   "cell_type": "markdown",
   "metadata": {},
   "source": [
    "### Analisis de modelos sobre data set con PCA"
   ]
  },
  {
   "cell_type": "code",
   "execution_count": 217,
   "metadata": {},
   "outputs": [],
   "source": [
    "import pandas as pd\n",
    "import seaborn as sns\n",
    "import numpy as np\n",
    "from matplotlib import pyplot as plt\n",
    "\n",
    "from sklearn.model_selection import train_test_split\n",
    "from sklearn.metrics import accuracy_score, classification_report, confusion_matrix\n",
    "\n",
    "from sklearn.linear_model import LogisticRegression\n",
    "from sklearn.ensemble import RandomForestClassifier\n",
    "from xgboost import XGBClassifier\n",
    "from sklearn import svm\n",
    "\n",
    "from sklearn.model_selection import cross_val_score, StratifiedKFold"
   ]
  },
  {
   "cell_type": "code",
   "execution_count": 218,
   "metadata": {},
   "outputs": [],
   "source": [
    "X, y = finalDf.drop('has_DM2', axis=1), finalDf['has_DM2']"
   ]
  },
  {
   "cell_type": "markdown",
   "metadata": {},
   "source": [
    "#### La precisión del modelo se evaluará utilizando el método de retención.\n",
    "Con este enfoque, dejamos una fracción de la muestra de entrenamiento (generalmente del 20% al 40%), entrenamos el modelo con el resto de los datos (60-80% de la muestra original) y calculamos alguna métrica de la calidad del modelo ( por ejemplo, el más simple es la proporción de respuestas correctas en el problema de clasificación) en una muestra diferida."
   ]
  },
  {
   "cell_type": "markdown",
   "metadata": {},
   "source": [
    "### TRAIN AND TEST SPLIT"
   ]
  },
  {
   "cell_type": "code",
   "execution_count": 219,
   "metadata": {},
   "outputs": [],
   "source": [
    "X_train, X_test, y_train, y_test = train_test_split(X, y, test_size=.3, random_state=7)"
   ]
  },
  {
   "cell_type": "markdown",
   "metadata": {},
   "source": [
    "### Escalado y normalizado"
   ]
  },
  {
   "cell_type": "code",
   "execution_count": 220,
   "metadata": {},
   "outputs": [],
   "source": [
    "from sklearn.preprocessing import StandardScaler\n",
    "\n",
    "std = StandardScaler()\n",
    "X_train = std.fit_transform(X_train)\n",
    "X_test = std.transform(X_test)"
   ]
  },
  {
   "cell_type": "code",
   "execution_count": 221,
   "metadata": {},
   "outputs": [
    {
     "data": {
      "text/plain": [
       "1.0    0.55\n",
       "0.0    0.45\n",
       "Name: has_DM2, dtype: float64"
      ]
     },
     "execution_count": 221,
     "metadata": {},
     "output_type": "execute_result"
    }
   ],
   "source": [
    "y.value_counts(normalize=True)"
   ]
  },
  {
   "cell_type": "code",
   "execution_count": 222,
   "metadata": {},
   "outputs": [
    {
     "data": {
      "image/png": "[encoded data removed]",
      "text/plain": [
       "<Figure size 576x396 with 1 Axes>"
      ]
     },
     "metadata": {},
     "output_type": "display_data"
    },
    {
     "data": {
      "text/plain": [
       "<AxesSubplot:title={'center':'Class Balance for 20 Instances'}, ylabel='support'>"
      ]
     },
     "execution_count": 222,
     "metadata": {},
     "output_type": "execute_result"
    }
   ],
   "source": [
    "# balanceo de clases en los conjuntos de test y train\n",
    "from yellowbrick.target import ClassBalance\n",
    "visualizer = ClassBalance(labels=[0, 1])\n",
    "visualizer.fit(y_train, y_test)\n",
    "visualizer.poof()"
   ]
  },
  {
   "cell_type": "markdown",
   "metadata": {},
   "source": [
    "### Predicción sin optimización de hiper parametros"
   ]
  },
  {
   "cell_type": "markdown",
   "metadata": {},
   "source": [
    "### K-NN"
   ]
  },
  {
   "cell_type": "code",
   "execution_count": 223,
   "metadata": {},
   "outputs": [
    {
     "data": {
      "text/plain": [
       "KNeighborsClassifier(n_neighbors=3)"
      ]
     },
     "execution_count": 223,
     "metadata": {},
     "output_type": "execute_result"
    }
   ],
   "source": [
    "from sklearn.neighbors import KNeighborsClassifier\n",
    "knn = KNeighborsClassifier(n_neighbors=3) \n",
    "knn.fit(X_train, y_train)  \n",
    "\n",
    "#print(knn.score(X_train, y_train))"
   ]
  },
  {
   "cell_type": "code",
   "execution_count": 224,
   "metadata": {},
   "outputs": [
    {
     "data": {
      "text/plain": [
       "0.8333333333333334"
      ]
     },
     "execution_count": 224,
     "metadata": {},
     "output_type": "execute_result"
    }
   ],
   "source": [
    "pred_test_knn = knn.predict(X_test)\n",
    "knn_accuracy = accuracy_score(y_test, pred_test_knn)\n",
    "knn_accuracy"
   ]
  },
  {
   "cell_type": "code",
   "execution_count": 225,
   "metadata": {},
   "outputs": [
    {
     "data": {
      "text/plain": [
       "array([[2, 0],\n",
       "       [1, 3]], dtype=int64)"
      ]
     },
     "execution_count": 225,
     "metadata": {},
     "output_type": "execute_result"
    }
   ],
   "source": [
    "confusion_matrix(y_test, pred_test_logreg)"
   ]
  },
  {
   "cell_type": "markdown",
   "metadata": {},
   "source": [
    "### Logistic Regression"
   ]
  },
  {
   "cell_type": "code",
   "execution_count": 226,
   "metadata": {},
   "outputs": [],
   "source": [
    "logreg = LogisticRegression(random_state=17, solver='lbfgs', max_iter=1000)\n",
    "logreg.fit(X_train, y_train);"
   ]
  },
  {
   "cell_type": "code",
   "execution_count": 227,
   "metadata": {},
   "outputs": [
    {
     "data": {
      "text/plain": [
       "0.8333333333333334"
      ]
     },
     "execution_count": 227,
     "metadata": {},
     "output_type": "execute_result"
    }
   ],
   "source": [
    "pred_test_logreg = logreg.predict(X_test)\n",
    "logreg_accuracy = accuracy_score(y_test, pred_test_logreg)\n",
    "logreg_accuracy"
   ]
  },
  {
   "cell_type": "code",
   "execution_count": 228,
   "metadata": {},
   "outputs": [
    {
     "data": {
      "text/plain": [
       "array([[2, 0],\n",
       "       [1, 3]], dtype=int64)"
      ]
     },
     "execution_count": 228,
     "metadata": {},
     "output_type": "execute_result"
    }
   ],
   "source": [
    "confusion_matrix(y_test, pred_test_logreg)"
   ]
  },
  {
   "cell_type": "markdown",
   "metadata": {},
   "source": [
    "### Random Forest"
   ]
  },
  {
   "cell_type": "code",
   "execution_count": 229,
   "metadata": {},
   "outputs": [],
   "source": [
    "rf_clf = RandomForestClassifier(n_estimators=10, n_jobs=2, random_state=7)\n",
    "rf_clf.fit(X_train, y_train);"
   ]
  },
  {
   "cell_type": "code",
   "execution_count": 230,
   "metadata": {},
   "outputs": [
    {
     "data": {
      "text/plain": [
       "1.0"
      ]
     },
     "execution_count": 230,
     "metadata": {},
     "output_type": "execute_result"
    }
   ],
   "source": [
    "pred_test_rf_clf = rf_clf.predict(X_test)\n",
    "rf_accuracy = accuracy_score(y_test, pred_test_rf_clf)\n",
    "rf_accuracy"
   ]
  },
  {
   "cell_type": "code",
   "execution_count": 231,
   "metadata": {},
   "outputs": [
    {
     "data": {
      "text/plain": [
       "array([[2, 0],\n",
       "       [0, 4]], dtype=int64)"
      ]
     },
     "execution_count": 231,
     "metadata": {},
     "output_type": "execute_result"
    }
   ],
   "source": [
    "confusion_matrix(y_test, pred_test_rf_clf)"
   ]
  },
  {
   "cell_type": "markdown",
   "metadata": {},
   "source": [
    "### XGBoost"
   ]
  },
  {
   "cell_type": "code",
   "execution_count": 232,
   "metadata": {},
   "outputs": [
    {
     "name": "stdout",
     "output_type": "stream",
     "text": [
      "[20:03:34] WARNING: C:/Users/Administrator/workspace/xgboost-win64_release_1.4.0/src/learner.cc:1095: Starting in XGBoost 1.3.0, the default evaluation metric used with the objective 'binary:logistic' was changed from 'error' to 'logloss'. Explicitly set eval_metric if you'd like to restore the old behavior.\n"
     ]
    }
   ],
   "source": [
    "xgbc = XGBClassifier()\n",
    "xgbc.fit(X_train, y_train);"
   ]
  },
  {
   "cell_type": "code",
   "execution_count": 233,
   "metadata": {},
   "outputs": [
    {
     "data": {
      "text/plain": [
       "1.0"
      ]
     },
     "execution_count": 233,
     "metadata": {},
     "output_type": "execute_result"
    }
   ],
   "source": [
    "pred_test_xgbc = xgbc.predict(X_test)\n",
    "XGB_accuracy = accuracy_score(y_test, pred_test_xgbc)\n",
    "XGB_accuracy"
   ]
  },
  {
   "cell_type": "code",
   "execution_count": 234,
   "metadata": {},
   "outputs": [
    {
     "data": {
      "text/plain": [
       "array([[2, 0],\n",
       "       [0, 4]], dtype=int64)"
      ]
     },
     "execution_count": 234,
     "metadata": {},
     "output_type": "execute_result"
    }
   ],
   "source": [
    "confusion_matrix(y_test, pred_test_xgbc)"
   ]
  },
  {
   "cell_type": "markdown",
   "metadata": {},
   "source": [
    "### Support Vector Machines 1"
   ]
  },
  {
   "cell_type": "code",
   "execution_count": 235,
   "metadata": {},
   "outputs": [],
   "source": [
    "clf_svm = svm.SVC(gamma='scale')\n",
    "clf_svm.fit(X_train, y_train);"
   ]
  },
  {
   "cell_type": "code",
   "execution_count": 236,
   "metadata": {},
   "outputs": [
    {
     "data": {
      "text/plain": [
       "0.6666666666666666"
      ]
     },
     "execution_count": 236,
     "metadata": {},
     "output_type": "execute_result"
    }
   ],
   "source": [
    "pred_test_svm = clf_svm.predict(X_test)\n",
    "svm_accuracy = accuracy_score(y_test, pred_test_svm)\n",
    "svm_accuracy"
   ]
  },
  {
   "cell_type": "code",
   "execution_count": 237,
   "metadata": {},
   "outputs": [
    {
     "data": {
      "text/plain": [
       "array([[2, 0],\n",
       "       [2, 2]], dtype=int64)"
      ]
     },
     "execution_count": 237,
     "metadata": {},
     "output_type": "execute_result"
    }
   ],
   "source": [
    "confusion_matrix(y_test, pred_test_svm)"
   ]
  },
  {
   "cell_type": "markdown",
   "metadata": {},
   "source": [
    "### Support Vector Machines 2"
   ]
  },
  {
   "cell_type": "code",
   "execution_count": 238,
   "metadata": {},
   "outputs": [],
   "source": [
    "clf_svm = svm.SVC(C=2, decision_function_shape='ovo', gamma='auto', kernel='linear',\n",
    "    random_state=1)\n",
    "clf_svm.fit(X_train, y_train);"
   ]
  },
  {
   "cell_type": "code",
   "execution_count": 239,
   "metadata": {},
   "outputs": [
    {
     "data": {
      "text/plain": [
       "0.8333333333333334"
      ]
     },
     "execution_count": 239,
     "metadata": {},
     "output_type": "execute_result"
    }
   ],
   "source": [
    "pred_test_svm = clf_svm.predict(X_test)\n",
    "svm_accuracy = accuracy_score(y_test, pred_test_svm)\n",
    "svm_accuracy"
   ]
  },
  {
   "cell_type": "code",
   "execution_count": 240,
   "metadata": {},
   "outputs": [
    {
     "data": {
      "text/plain": [
       "array([[2, 0],\n",
       "       [1, 3]], dtype=int64)"
      ]
     },
     "execution_count": 240,
     "metadata": {},
     "output_type": "execute_result"
    }
   ],
   "source": [
    "confusion_matrix(y_test, pred_test_svm)"
   ]
  },
  {
   "cell_type": "markdown",
   "metadata": {},
   "source": [
    "## Primera validación cruzada"
   ]
  },
  {
   "cell_type": "code",
   "execution_count": 241,
   "metadata": {},
   "outputs": [],
   "source": [
    "accuracy = pd.DataFrame({\n",
    "    'xgboost': [XGB_accuracy],\n",
    "    'logreg': [logreg_accuracy],\n",
    "    'random forest': [rf_accuracy],\n",
    "    'SVM': [svm_accuracy]\n",
    "    }, index=['accuracy'])"
   ]
  },
  {
   "cell_type": "code",
   "execution_count": 242,
   "metadata": {},
   "outputs": [],
   "source": [
    "skf = StratifiedKFold(n_splits = 5, random_state=1, shuffle = True)"
   ]
  },
  {
   "cell_type": "code",
   "execution_count": 243,
   "metadata": {},
   "outputs": [
    {
     "name": "stdout",
     "output_type": "stream",
     "text": [
      "[20:03:35] WARNING: C:/Users/Administrator/workspace/xgboost-win64_release_1.4.0/src/learner.cc:1095: Starting in XGBoost 1.3.0, the default evaluation metric used with the objective 'binary:logistic' was changed from 'error' to 'logloss'. Explicitly set eval_metric if you'd like to restore the old behavior.\n",
      "[20:03:35] WARNING: C:/Users/Administrator/workspace/xgboost-win64_release_1.4.0/src/learner.cc:1095: Starting in XGBoost 1.3.0, the default evaluation metric used with the objective 'binary:logistic' was changed from 'error' to 'logloss'. Explicitly set eval_metric if you'd like to restore the old behavior.\n",
      "[20:03:35] WARNING: C:/Users/Administrator/workspace/xgboost-win64_release_1.4.0/src/learner.cc:1095: Starting in XGBoost 1.3.0, the default evaluation metric used with the objective 'binary:logistic' was changed from 'error' to 'logloss'. Explicitly set eval_metric if you'd like to restore the old behavior.\n",
      "[20:03:36] WARNING: C:/Users/Administrator/workspace/xgboost-win64_release_1.4.0/src/learner.cc:1095: Starting in XGBoost 1.3.0, the default evaluation metric used with the objective 'binary:logistic' was changed from 'error' to 'logloss'. Explicitly set eval_metric if you'd like to restore the old behavior.\n",
      "[20:03:36] WARNING: C:/Users/Administrator/workspace/xgboost-win64_release_1.4.0/src/learner.cc:1095: Starting in XGBoost 1.3.0, the default evaluation metric used with the objective 'binary:logistic' was changed from 'error' to 'logloss'. Explicitly set eval_metric if you'd like to restore the old behavior.\n"
     ]
    }
   ],
   "source": [
    "svm_cvs = cross_val_score(clf_svm, X_train, y_train, scoring='accuracy', cv = skf).mean()\n",
    "xgb_cvs = cross_val_score(xgbc, X_train, y_train, scoring='accuracy', cv = skf).mean()\n",
    "logreg_cvs = cross_val_score(logreg, X_train, y_train, scoring='accuracy', cv = skf).mean()\n",
    "rf_cvs = cross_val_score(rf_clf, X_train, y_train, scoring='accuracy', cv = skf).mean()"
   ]
  },
  {
   "cell_type": "code",
   "execution_count": 244,
   "metadata": {},
   "outputs": [],
   "source": [
    "accuracy_cvs = pd.DataFrame({\n",
    "    'xgboost': [xgb_cvs],\n",
    "    'logreg': [logreg_cvs],\n",
    "    'random forest': [rf_cvs],\n",
    "    'SVM': [svm_cvs]\n",
    "    }, index=['cvs_mean'])"
   ]
  },
  {
   "cell_type": "code",
   "execution_count": 245,
   "metadata": {},
   "outputs": [],
   "source": [
    "accuracy = accuracy.append(accuracy_cvs)"
   ]
  },
  {
   "cell_type": "code",
   "execution_count": 246,
   "metadata": {},
   "outputs": [
    {
     "data": {
      "text/html": [
       "<div>\n",
       "<style scoped>\n",
       "    .dataframe tbody tr th:only-of-type {\n",
       "        vertical-align: middle;\n",
       "    }\n",
       "\n",
       "    .dataframe tbody tr th {\n",
       "        vertical-align: top;\n",
       "    }\n",
       "\n",
       "    .dataframe thead th {\n",
       "        text-align: right;\n",
       "    }\n",
       "</style>\n",
       "<table border=\"1\" class=\"dataframe\">\n",
       "  <thead>\n",
       "    <tr style=\"text-align: right;\">\n",
       "      <th></th>\n",
       "      <th>xgboost</th>\n",
       "      <th>logreg</th>\n",
       "      <th>random forest</th>\n",
       "      <th>SVM</th>\n",
       "    </tr>\n",
       "  </thead>\n",
       "  <tbody>\n",
       "    <tr>\n",
       "      <th>accuracy</th>\n",
       "      <td>1.0</td>\n",
       "      <td>0.833333</td>\n",
       "      <td>1.000000</td>\n",
       "      <td>0.833333</td>\n",
       "    </tr>\n",
       "    <tr>\n",
       "      <th>cvs_mean</th>\n",
       "      <td>1.0</td>\n",
       "      <td>0.666667</td>\n",
       "      <td>0.933333</td>\n",
       "      <td>0.666667</td>\n",
       "    </tr>\n",
       "  </tbody>\n",
       "</table>\n",
       "</div>"
      ],
      "text/plain": [
       "          xgboost    logreg  random forest       SVM\n",
       "accuracy      1.0  0.833333       1.000000  0.833333\n",
       "cvs_mean      1.0  0.666667       0.933333  0.666667"
      ]
     },
     "execution_count": 246,
     "metadata": {},
     "output_type": "execute_result"
    }
   ],
   "source": [
    "accuracy"
   ]
  },
  {
   "cell_type": "markdown",
   "metadata": {},
   "source": [
    "### Optimización de los hiper-parámetros de los algoritmos para SVM y LongReg"
   ]
  },
  {
   "cell_type": "markdown",
   "metadata": {},
   "source": [
    "#### Support Vecton Machive v2"
   ]
  },
  {
   "cell_type": "code",
   "execution_count": 247,
   "metadata": {},
   "outputs": [],
   "source": [
    "parameter_candidates = [\n",
    "  {'C': [1, 10, 100, 1000], 'kernel': ['linear']},\n",
    "  {'C': [1, 10, 100, 1000], 'gamma': [0.001, 0.0001], 'kernel': ['rbf']},\n",
    "]"
   ]
  },
  {
   "cell_type": "code",
   "execution_count": 248,
   "metadata": {},
   "outputs": [
    {
     "data": {
      "text/plain": [
       "GridSearchCV(cv=5,\n",
       "             estimator=SVC(C=2, decision_function_shape='ovo', gamma='auto',\n",
       "                           kernel='linear', random_state=1),\n",
       "             n_jobs=-1,\n",
       "             param_grid=[{'C': [1, 10, 100, 1000], 'kernel': ['linear']},\n",
       "                         {'C': [1, 10, 100, 1000], 'gamma': [0.001, 0.0001],\n",
       "                          'kernel': ['rbf']}])"
      ]
     },
     "execution_count": 248,
     "metadata": {},
     "output_type": "execute_result"
    }
   ],
   "source": [
    "from sklearn.model_selection import cross_val_score, StratifiedKFold, GridSearchCV\n",
    "# Create a classifier object with the classifier and parameter candidates\n",
    "clf = GridSearchCV(estimator=clf_svm, param_grid=parameter_candidates, n_jobs=-1, cv=5)\n",
    "\n",
    "# Train the classifier on data1's feature and target data\n",
    "clf.fit(X_train, y_train)  "
   ]
  },
  {
   "cell_type": "code",
   "execution_count": 249,
   "metadata": {},
   "outputs": [
    {
     "data": {
      "text/plain": [
       "0.8666666666666666"
      ]
     },
     "execution_count": 249,
     "metadata": {},
     "output_type": "execute_result"
    }
   ],
   "source": [
    "clf.best_score_"
   ]
  },
  {
   "cell_type": "code",
   "execution_count": 250,
   "metadata": {},
   "outputs": [
    {
     "data": {
      "text/plain": [
       "SVC(C=100, decision_function_shape='ovo', gamma=0.001, random_state=1)"
      ]
     },
     "execution_count": 250,
     "metadata": {},
     "output_type": "execute_result"
    }
   ],
   "source": [
    "clf.best_estimator_"
   ]
  },
  {
   "cell_type": "code",
   "execution_count": 251,
   "metadata": {},
   "outputs": [
    {
     "data": {
      "text/plain": [
       "1.0"
      ]
     },
     "execution_count": 251,
     "metadata": {},
     "output_type": "execute_result"
    }
   ],
   "source": [
    "clf.score(X_test, y_test)"
   ]
  },
  {
   "cell_type": "code",
   "execution_count": 252,
   "metadata": {},
   "outputs": [
    {
     "data": {
      "text/plain": [
       "1.0"
      ]
     },
     "execution_count": 252,
     "metadata": {},
     "output_type": "execute_result"
    }
   ],
   "source": [
    "pred_test_svm = clf.best_estimator_.predict(X_test)\n",
    "svm_accuracy = accuracy_score(y_test, pred_test_svm)\n",
    "svm_accuracy"
   ]
  },
  {
   "cell_type": "code",
   "execution_count": 253,
   "metadata": {},
   "outputs": [
    {
     "data": {
      "text/plain": [
       "array([[2, 0],\n",
       "       [0, 4]], dtype=int64)"
      ]
     },
     "execution_count": 253,
     "metadata": {},
     "output_type": "execute_result"
    }
   ],
   "source": [
    "confusion_matrix(y_test, pred_test_svm)"
   ]
  },
  {
   "cell_type": "markdown",
   "metadata": {},
   "source": [
    "#### Regresión logistica"
   ]
  },
  {
   "cell_type": "code",
   "execution_count": 254,
   "metadata": {},
   "outputs": [],
   "source": [
    "grid={\"C\":np.logspace(-3,3,7), \"penalty\":[\"l2\"]}"
   ]
  },
  {
   "cell_type": "code",
   "execution_count": 255,
   "metadata": {},
   "outputs": [
    {
     "data": {
      "text/plain": [
       "GridSearchCV(cv=4, estimator=LogisticRegression(max_iter=1000, random_state=17),\n",
       "             param_grid={'C': array([1.e-03, 1.e-02, 1.e-01, 1.e+00, 1.e+01, 1.e+02, 1.e+03]),\n",
       "                         'penalty': ['l2']})"
      ]
     },
     "execution_count": 255,
     "metadata": {},
     "output_type": "execute_result"
    }
   ],
   "source": [
    "logreg_cv = GridSearchCV(logreg,grid,cv=4)\n",
    "logreg_cv.fit(X_train,y_train)"
   ]
  },
  {
   "cell_type": "code",
   "execution_count": 256,
   "metadata": {},
   "outputs": [
    {
     "data": {
      "text/plain": [
       "{'C': 10.0, 'penalty': 'l2'}"
      ]
     },
     "execution_count": 256,
     "metadata": {},
     "output_type": "execute_result"
    }
   ],
   "source": [
    "logreg_cv.best_params_"
   ]
  },
  {
   "cell_type": "code",
   "execution_count": 257,
   "metadata": {},
   "outputs": [
    {
     "data": {
      "text/plain": [
       "0.75"
      ]
     },
     "execution_count": 257,
     "metadata": {},
     "output_type": "execute_result"
    }
   ],
   "source": [
    "logreg_cv.best_score_"
   ]
  },
  {
   "cell_type": "code",
   "execution_count": 258,
   "metadata": {},
   "outputs": [],
   "source": [
    "pred_test_logreg_cv = logreg_cv.best_estimator_.predict(X_test)"
   ]
  },
  {
   "cell_type": "code",
   "execution_count": 259,
   "metadata": {},
   "outputs": [
    {
     "data": {
      "text/plain": [
       "0.8333333333333334"
      ]
     },
     "execution_count": 259,
     "metadata": {},
     "output_type": "execute_result"
    }
   ],
   "source": [
    "accuracy_score(y_test, pred_test_logreg_cv)"
   ]
  },
  {
   "cell_type": "code",
   "execution_count": 260,
   "metadata": {},
   "outputs": [
    {
     "data": {
      "text/plain": [
       "array([[2, 0],\n",
       "       [1, 3]], dtype=int64)"
      ]
     },
     "execution_count": 260,
     "metadata": {},
     "output_type": "execute_result"
    }
   ],
   "source": [
    "confusion_matrix(y_test, pred_test_logreg_cv)"
   ]
  },
  {
   "cell_type": "markdown",
   "metadata": {},
   "source": [
    "### Calidad del modelo (estimada en base a muestreo diferido)"
   ]
  },
  {
   "cell_type": "code",
   "execution_count": 261,
   "metadata": {},
   "outputs": [],
   "source": [
    "accuracy = pd.DataFrame({\n",
    "    'xgboost': [XGB_accuracy],\n",
    "    'logreg': [logreg_accuracy],\n",
    "    'random forest': [rf_accuracy],\n",
    "    'SVM': [svm_accuracy]\n",
    "    }, index=['accuracy'])"
   ]
  },
  {
   "cell_type": "code",
   "execution_count": 262,
   "metadata": {},
   "outputs": [
    {
     "data": {
      "text/html": [
       "<div>\n",
       "<style scoped>\n",
       "    .dataframe tbody tr th:only-of-type {\n",
       "        vertical-align: middle;\n",
       "    }\n",
       "\n",
       "    .dataframe tbody tr th {\n",
       "        vertical-align: top;\n",
       "    }\n",
       "\n",
       "    .dataframe thead th {\n",
       "        text-align: right;\n",
       "    }\n",
       "</style>\n",
       "<table border=\"1\" class=\"dataframe\">\n",
       "  <thead>\n",
       "    <tr style=\"text-align: right;\">\n",
       "      <th></th>\n",
       "      <th>xgboost</th>\n",
       "      <th>logreg</th>\n",
       "      <th>random forest</th>\n",
       "      <th>SVM</th>\n",
       "    </tr>\n",
       "  </thead>\n",
       "  <tbody>\n",
       "    <tr>\n",
       "      <th>accuracy</th>\n",
       "      <td>1.0</td>\n",
       "      <td>0.833333</td>\n",
       "      <td>1.000000</td>\n",
       "      <td>1.000000</td>\n",
       "    </tr>\n",
       "    <tr>\n",
       "      <th>cvs_mean</th>\n",
       "      <td>1.0</td>\n",
       "      <td>0.666667</td>\n",
       "      <td>0.933333</td>\n",
       "      <td>0.666667</td>\n",
       "    </tr>\n",
       "  </tbody>\n",
       "</table>\n",
       "</div>"
      ],
      "text/plain": [
       "          xgboost    logreg  random forest       SVM\n",
       "accuracy      1.0  0.833333       1.000000  1.000000\n",
       "cvs_mean      1.0  0.666667       0.933333  0.666667"
      ]
     },
     "execution_count": 262,
     "metadata": {},
     "output_type": "execute_result"
    }
   ],
   "source": [
    "accuracy = accuracy.append(accuracy_cvs)\n",
    "accuracy"
   ]
  },
  {
   "cell_type": "markdown",
   "metadata": {},
   "source": [
    "### Validación cruzada\n"
   ]
  },
  {
   "cell_type": "code",
   "execution_count": 263,
   "metadata": {},
   "outputs": [],
   "source": [
    "skf = StratifiedKFold(n_splits = 5, random_state=1, shuffle = True)"
   ]
  },
  {
   "cell_type": "code",
   "execution_count": 264,
   "metadata": {},
   "outputs": [
    {
     "name": "stdout",
     "output_type": "stream",
     "text": [
      "[20:03:46] WARNING: C:/Users/Administrator/workspace/xgboost-win64_release_1.4.0/src/learner.cc:1095: Starting in XGBoost 1.3.0, the default evaluation metric used with the objective 'binary:logistic' was changed from 'error' to 'logloss'. Explicitly set eval_metric if you'd like to restore the old behavior.\n",
      "[20:03:46] WARNING: C:/Users/Administrator/workspace/xgboost-win64_release_1.4.0/src/learner.cc:1095: Starting in XGBoost 1.3.0, the default evaluation metric used with the objective 'binary:logistic' was changed from 'error' to 'logloss'. Explicitly set eval_metric if you'd like to restore the old behavior.\n",
      "[20:03:46] WARNING: C:/Users/Administrator/workspace/xgboost-win64_release_1.4.0/src/learner.cc:1095: Starting in XGBoost 1.3.0, the default evaluation metric used with the objective 'binary:logistic' was changed from 'error' to 'logloss'. Explicitly set eval_metric if you'd like to restore the old behavior.\n",
      "[20:03:46] WARNING: C:/Users/Administrator/workspace/xgboost-win64_release_1.4.0/src/learner.cc:1095: Starting in XGBoost 1.3.0, the default evaluation metric used with the objective 'binary:logistic' was changed from 'error' to 'logloss'. Explicitly set eval_metric if you'd like to restore the old behavior.\n",
      "[20:03:46] WARNING: C:/Users/Administrator/workspace/xgboost-win64_release_1.4.0/src/learner.cc:1095: Starting in XGBoost 1.3.0, the default evaluation metric used with the objective 'binary:logistic' was changed from 'error' to 'logloss'. Explicitly set eval_metric if you'd like to restore the old behavior.\n"
     ]
    }
   ],
   "source": [
    "svm_cvs = cross_val_score(clf_svm, X_train, y_train, scoring='accuracy', cv = skf).mean()\n",
    "xgb_cvs = cross_val_score(xgbc, X_train, y_train, scoring='accuracy', cv = skf).mean()\n",
    "logreg_cvs = cross_val_score(logreg, X_train, y_train, scoring='accuracy', cv = skf).mean()\n",
    "rf_cvs = cross_val_score(rf_clf, X_train, y_train, scoring='accuracy', cv = skf).mean()"
   ]
  },
  {
   "cell_type": "code",
   "execution_count": 265,
   "metadata": {},
   "outputs": [],
   "source": [
    "accuracy_cvs = pd.DataFrame({\n",
    "    'xgboost': [xgb_cvs],\n",
    "    'logreg': [logreg_cvs],\n",
    "    'random forest': [rf_cvs],\n",
    "    'SVM': [svm_cvs]\n",
    "    }, index=['cvs_mean'])"
   ]
  },
  {
   "cell_type": "code",
   "execution_count": 266,
   "metadata": {},
   "outputs": [],
   "source": [
    "accuracy = accuracy.append(accuracy_cvs)"
   ]
  },
  {
   "cell_type": "code",
   "execution_count": 267,
   "metadata": {},
   "outputs": [
    {
     "data": {
      "text/html": [
       "<div>\n",
       "<style scoped>\n",
       "    .dataframe tbody tr th:only-of-type {\n",
       "        vertical-align: middle;\n",
       "    }\n",
       "\n",
       "    .dataframe tbody tr th {\n",
       "        vertical-align: top;\n",
       "    }\n",
       "\n",
       "    .dataframe thead th {\n",
       "        text-align: right;\n",
       "    }\n",
       "</style>\n",
       "<table border=\"1\" class=\"dataframe\">\n",
       "  <thead>\n",
       "    <tr style=\"text-align: right;\">\n",
       "      <th></th>\n",
       "      <th>xgboost</th>\n",
       "      <th>logreg</th>\n",
       "      <th>random forest</th>\n",
       "      <th>SVM</th>\n",
       "    </tr>\n",
       "  </thead>\n",
       "  <tbody>\n",
       "    <tr>\n",
       "      <th>accuracy</th>\n",
       "      <td>1.0</td>\n",
       "      <td>0.833333</td>\n",
       "      <td>1.000000</td>\n",
       "      <td>1.000000</td>\n",
       "    </tr>\n",
       "    <tr>\n",
       "      <th>cvs_mean</th>\n",
       "      <td>1.0</td>\n",
       "      <td>0.666667</td>\n",
       "      <td>0.933333</td>\n",
       "      <td>0.666667</td>\n",
       "    </tr>\n",
       "    <tr>\n",
       "      <th>cvs_mean</th>\n",
       "      <td>1.0</td>\n",
       "      <td>0.666667</td>\n",
       "      <td>0.933333</td>\n",
       "      <td>0.666667</td>\n",
       "    </tr>\n",
       "  </tbody>\n",
       "</table>\n",
       "</div>"
      ],
      "text/plain": [
       "          xgboost    logreg  random forest       SVM\n",
       "accuracy      1.0  0.833333       1.000000  1.000000\n",
       "cvs_mean      1.0  0.666667       0.933333  0.666667\n",
       "cvs_mean      1.0  0.666667       0.933333  0.666667"
      ]
     },
     "execution_count": 267,
     "metadata": {},
     "output_type": "execute_result"
    }
   ],
   "source": [
    "accuracy"
   ]
  },
  {
   "cell_type": "markdown",
   "metadata": {},
   "source": [
    "### Classification Report and ROC Curve"
   ]
  },
  {
   "cell_type": "code",
   "execution_count": 268,
   "metadata": {},
   "outputs": [
    {
     "name": "stdout",
     "output_type": "stream",
     "text": [
      "**Logistic Regression**\n",
      "               precision    recall  f1-score   support\n",
      "\n",
      " 0 - healthy       0.67      1.00      0.80         2\n",
      " 1 - diabet        1.00      0.75      0.86         4\n",
      "\n",
      "    accuracy                           0.83         6\n",
      "   macro avg       0.83      0.88      0.83         6\n",
      "weighted avg       0.89      0.83      0.84         6\n",
      "\n"
     ]
    }
   ],
   "source": [
    "print('**Logistic Regression**\\n',classification_report(y_test, pred_test_logreg, target_names=['0 - healthy','1 - diabet ']))"
   ]
  },
  {
   "cell_type": "code",
   "execution_count": 269,
   "metadata": {
    "jupyter": {
     "source_hidden": true
    }
   },
   "outputs": [
    {
     "name": "stdout",
     "output_type": "stream",
     "text": [
      "ROC AUC: 0.88\n"
     ]
    },
    {
     "data": {
      "image/png": "[encoded data removed]",
      "text/plain": [
       "<Figure size 576x396 with 1 Axes>"
      ]
     },
     "metadata": {},
     "output_type": "display_data"
    }
   ],
   "source": [
    "from sklearn.metrics import confusion_matrix,classification_report,roc_curve,accuracy_score,auc\n",
    "fpr,tpr,_=roc_curve(y_test,pred_test_logreg)\n",
    "#calculate AUC\n",
    "roc_auc=auc(fpr,tpr)\n",
    "print('ROC AUC: %0.2f' % roc_auc)\n",
    "#plot of ROC curve for a specified class\n",
    "plt.figure()\n",
    "plt.plot(fpr,tpr,label='ROC curve(area= %2.f)' %roc_auc)\n",
    "plt.plot([0,1],[0,1],'k--')\n",
    "plt.xlim([0.0,1.0])\n",
    "plt.ylim([0.0,1.05])\n",
    "plt.xlabel('False positive rate')\n",
    "plt.ylabel('True positive rate')\n",
    "plt.title('ROC curve')\n",
    "plt.legend(loc='lower right')\n",
    "plt.grid()\n",
    "plt.show()"
   ]
  },
  {
   "cell_type": "code",
   "execution_count": 270,
   "metadata": {},
   "outputs": [
    {
     "name": "stdout",
     "output_type": "stream",
     "text": [
      "**Random Forest**\n",
      "               precision    recall  f1-score   support\n",
      "\n",
      " 0 - healthy       1.00      1.00      1.00         2\n",
      " 1 - diabet        1.00      1.00      1.00         4\n",
      "\n",
      "    accuracy                           1.00         6\n",
      "   macro avg       1.00      1.00      1.00         6\n",
      "weighted avg       1.00      1.00      1.00         6\n",
      "\n"
     ]
    }
   ],
   "source": [
    "print('**Random Forest**\\n',classification_report(y_test, pred_test_rf_clf, target_names=['0 - healthy','1 - diabet ']))"
   ]
  },
  {
   "cell_type": "code",
   "execution_count": 271,
   "metadata": {
    "jupyter": {
     "source_hidden": true
    }
   },
   "outputs": [
    {
     "name": "stdout",
     "output_type": "stream",
     "text": [
      "ROC AUC: 1.00\n"
     ]
    },
    {
     "data": {
      "image/png": "[encoded data removed]",
      "text/plain": [
       "<Figure size 576x396 with 1 Axes>"
      ]
     },
     "metadata": {},
     "output_type": "display_data"
    }
   ],
   "source": [
    "from sklearn.metrics import confusion_matrix,classification_report,roc_curve,accuracy_score,auc\n",
    "fpr,tpr,_=roc_curve(y_test,pred_test_rf_clf)\n",
    "#calculate AUC\n",
    "roc_auc=auc(fpr,tpr)\n",
    "print('ROC AUC: %0.2f' % roc_auc)\n",
    "#plot of ROC curve for a specified class\n",
    "plt.figure()\n",
    "plt.plot(fpr,tpr,label='ROC curve(area= %2.f)' %roc_auc)\n",
    "plt.plot([0,1],[0,1],'k--')\n",
    "plt.xlim([0.0,1.0])\n",
    "plt.ylim([0.0,1.05])\n",
    "plt.xlabel('False positive rate')\n",
    "plt.ylabel('True positive rate')\n",
    "plt.title('ROC curve')\n",
    "plt.legend(loc='lower right')\n",
    "plt.grid()\n",
    "plt.show()"
   ]
  },
  {
   "cell_type": "code",
   "execution_count": 272,
   "metadata": {},
   "outputs": [
    {
     "name": "stdout",
     "output_type": "stream",
     "text": [
      "**SVM**\n",
      "               precision    recall  f1-score   support\n",
      "\n",
      " 0 - healthy       1.00      1.00      1.00         2\n",
      " 1 - diabet        1.00      1.00      1.00         4\n",
      "\n",
      "    accuracy                           1.00         6\n",
      "   macro avg       1.00      1.00      1.00         6\n",
      "weighted avg       1.00      1.00      1.00         6\n",
      "\n"
     ]
    }
   ],
   "source": [
    "print('**SVM**\\n',classification_report(y_test, pred_test_svm, target_names=['0 - healthy','1 - diabet ']))"
   ]
  },
  {
   "cell_type": "code",
   "execution_count": 273,
   "metadata": {
    "jupyter": {
     "source_hidden": true
    }
   },
   "outputs": [
    {
     "name": "stdout",
     "output_type": "stream",
     "text": [
      "ROC AUC: 1.00\n"
     ]
    },
    {
     "data": {
      "image/png": "[encoded data removed]",
      "text/plain": [
       "<Figure size 576x396 with 1 Axes>"
      ]
     },
     "metadata": {},
     "output_type": "display_data"
    }
   ],
   "source": [
    "from sklearn.metrics import confusion_matrix,classification_report,roc_curve,accuracy_score,auc\n",
    "fpr,tpr,_=roc_curve(y_test,pred_test_svm)\n",
    "#calculate AUC\n",
    "roc_auc=auc(fpr,tpr)\n",
    "print('ROC AUC: %0.2f' % roc_auc)\n",
    "#plot of ROC curve for a specified class\n",
    "plt.figure()\n",
    "plt.plot(fpr,tpr,label='ROC curve(area= %2.f)' %roc_auc)\n",
    "plt.plot([0,1],[0,1],'k--')\n",
    "plt.xlim([0.0,1.0])\n",
    "plt.ylim([0.0,1.05])\n",
    "plt.xlabel('False positive rate')\n",
    "plt.ylabel('True positive rate')\n",
    "plt.title('ROC curve')\n",
    "plt.legend(loc='lower right')\n",
    "plt.grid()\n",
    "plt.show()"
   ]
  },
  {
   "cell_type": "code",
   "execution_count": 274,
   "metadata": {},
   "outputs": [
    {
     "name": "stdout",
     "output_type": "stream",
     "text": [
      "**xgbc**\n",
      "               precision    recall  f1-score   support\n",
      "\n",
      " 0 - healthy       1.00      1.00      1.00         2\n",
      " 1 - diabet        1.00      1.00      1.00         4\n",
      "\n",
      "    accuracy                           1.00         6\n",
      "   macro avg       1.00      1.00      1.00         6\n",
      "weighted avg       1.00      1.00      1.00         6\n",
      "\n"
     ]
    }
   ],
   "source": [
    "print('**xgbc**\\n',classification_report(y_test, pred_test_xgbc, target_names=['0 - healthy','1 - diabet ']))"
   ]
  },
  {
   "cell_type": "code",
   "execution_count": 275,
   "metadata": {
    "jupyter": {
     "source_hidden": true
    }
   },
   "outputs": [
    {
     "name": "stdout",
     "output_type": "stream",
     "text": [
      "ROC AUC: 1.00\n"
     ]
    },
    {
     "data": {
      "image/png": "[encoded data removed]",
      "text/plain": [
       "<Figure size 576x396 with 1 Axes>"
      ]
     },
     "metadata": {},
     "output_type": "display_data"
    }
   ],
   "source": [
    "from sklearn.metrics import confusion_matrix,classification_report,roc_curve,accuracy_score,auc\n",
    "fpr,tpr,_=roc_curve(y_test,pred_test_xgbc)\n",
    "#calculate AUC\n",
    "roc_auc=auc(fpr,tpr)\n",
    "print('ROC AUC: %0.2f' % roc_auc)\n",
    "#plot of ROC curve for a specified class\n",
    "plt.figure()\n",
    "plt.plot(fpr,tpr,label='ROC curve(area= %2.f)' %roc_auc)\n",
    "plt.plot([0,1],[0,1],'k--')\n",
    "plt.xlim([0.0,1.0])\n",
    "plt.ylim([0.0,1.05])\n",
    "plt.xlabel('False positive rate')\n",
    "plt.ylabel('True positive rate')\n",
    "plt.title('ROC curve')\n",
    "plt.legend(loc='lower right')\n",
    "plt.grid()\n",
    "plt.show()"
   ]
  },
  {
   "cell_type": "markdown",
   "metadata": {},
   "source": [
    "###  (confusion matrix) "
   ]
  },
  {
   "cell_type": "code",
   "execution_count": 276,
   "metadata": {},
   "outputs": [
    {
     "name": "stdout",
     "output_type": "stream",
     "text": [
      "**Logistic Regression**\n",
      " [[2 0]\n",
      " [1 3]]\n"
     ]
    }
   ],
   "source": [
    "print('**Logistic Regression**\\n',confusion_matrix(y_test, pred_test_logreg))"
   ]
  },
  {
   "cell_type": "code",
   "execution_count": 277,
   "metadata": {},
   "outputs": [
    {
     "name": "stdout",
     "output_type": "stream",
     "text": [
      "**Random Forest**\n",
      " [[2 0]\n",
      " [0 4]]\n"
     ]
    }
   ],
   "source": [
    "print('**Random Forest**\\n',confusion_matrix(y_test, pred_test_rf_clf))"
   ]
  },
  {
   "cell_type": "code",
   "execution_count": 278,
   "metadata": {},
   "outputs": [
    {
     "name": "stdout",
     "output_type": "stream",
     "text": [
      "**SVM**\n",
      " [[2 0]\n",
      " [0 4]]\n"
     ]
    }
   ],
   "source": [
    "print('**SVM**\\n',confusion_matrix(y_test, pred_test_svm))"
   ]
  },
  {
   "cell_type": "code",
   "execution_count": 279,
   "metadata": {},
   "outputs": [
    {
     "name": "stdout",
     "output_type": "stream",
     "text": [
      "**xgbc**\n",
      " [[2 0]\n",
      " [0 4]]\n"
     ]
    }
   ],
   "source": [
    "print('**xgbc**\\n',confusion_matrix(y_test, pred_test_xgbc))"
   ]
  },
  {
   "cell_type": "code",
   "execution_count": null,
   "metadata": {},
   "outputs": [],
   "source": []
  },
  {
   "cell_type": "markdown",
   "metadata": {},
   "source": [
    "## Artificial Neural Networks"
   ]
  },
  {
   "cell_type": "code",
   "execution_count": 280,
   "metadata": {},
   "outputs": [],
   "source": [
    "from keras.models import Sequential, load_model\n",
    "from keras.layers import Dense, Dropout, Activation, Conv2D,MaxPooling2D, Flatten\n",
    "\n",
    "model = Sequential()\n",
    "model.add(Dense(32,input_shape=(X_train.shape[1],)))\n",
    "model.add(Activation('relu'))\n",
    "model.add(Dense(64,input_shape=(X_train.shape[1],)))\n",
    "model.add(Activation('relu'))\n",
    "model.add(Dense(64,input_shape=(X_train.shape[1],)))\n",
    "model.add(Activation('relu'))\n",
    "model.add(Dense(128,input_shape=(X_train.shape[1],)))\n",
    "model.add(Activation('relu'))\n",
    "model.add(Dense(128,input_shape=(X_train.shape[1],)))\n",
    "model.add(Activation('relu'))\n",
    "model.add(Dense(256,input_shape=(X_train.shape[1],)))\n",
    "model.add(Activation('relu'))\n",
    "model.add(Dense(256,input_shape=(X_train.shape[1],)))\n",
    "model.add(Activation('relu'))\n",
    "model.add(Dense(2))\n",
    "model.add(Activation('softmax'))"
   ]
  },
  {
   "cell_type": "code",
   "execution_count": 281,
   "metadata": {},
   "outputs": [
    {
     "name": "stdout",
     "output_type": "stream",
     "text": [
      "Model: \"sequential_2\"\n",
      "_________________________________________________________________\n",
      "Layer (type)                 Output Shape              Param #   \n",
      "=================================================================\n",
      "dense_8 (Dense)              (None, 32)                512       \n",
      "_________________________________________________________________\n",
      "activation_8 (Activation)    (None, 32)                0         \n",
      "_________________________________________________________________\n",
      "dense_9 (Dense)              (None, 64)                2112      \n",
      "_________________________________________________________________\n",
      "activation_9 (Activation)    (None, 64)                0         \n",
      "_________________________________________________________________\n",
      "dense_10 (Dense)             (None, 64)                4160      \n",
      "_________________________________________________________________\n",
      "activation_10 (Activation)   (None, 64)                0         \n",
      "_________________________________________________________________\n",
      "dense_11 (Dense)             (None, 128)               8320      \n",
      "_________________________________________________________________\n",
      "activation_11 (Activation)   (None, 128)               0         \n",
      "_________________________________________________________________\n",
      "dense_12 (Dense)             (None, 128)               16512     \n",
      "_________________________________________________________________\n",
      "activation_12 (Activation)   (None, 128)               0         \n",
      "_________________________________________________________________\n",
      "dense_13 (Dense)             (None, 256)               33024     \n",
      "_________________________________________________________________\n",
      "activation_13 (Activation)   (None, 256)               0         \n",
      "_________________________________________________________________\n",
      "dense_14 (Dense)             (None, 256)               65792     \n",
      "_________________________________________________________________\n",
      "activation_14 (Activation)   (None, 256)               0         \n",
      "_________________________________________________________________\n",
      "dense_15 (Dense)             (None, 2)                 514       \n",
      "_________________________________________________________________\n",
      "activation_15 (Activation)   (None, 2)                 0         \n",
      "=================================================================\n",
      "Total params: 130,946\n",
      "Trainable params: 130,946\n",
      "Non-trainable params: 0\n",
      "_________________________________________________________________\n",
      "None\n",
      "Epoch 1/50\n",
      "2/2 [==============================] - 2s 1s/step - loss: 0.6908 - accuracy: 0.5333 - val_loss: 0.6873 - val_accuracy: 0.6667\n",
      "Epoch 2/50\n",
      "2/2 [==============================] - 0s 66ms/step - loss: 0.6889 - accuracy: 0.5000 - val_loss: 0.6883 - val_accuracy: 0.6667\n",
      "Epoch 3/50\n",
      "2/2 [==============================] - 0s 67ms/step - loss: 0.6873 - accuracy: 0.5000 - val_loss: 0.6891 - val_accuracy: 0.6667\n",
      "Epoch 4/50\n",
      "2/2 [==============================] - 0s 67ms/step - loss: 0.6949 - accuracy: 0.4333 - val_loss: 0.6866 - val_accuracy: 0.6667\n",
      "Epoch 5/50\n",
      "2/2 [==============================] - 0s 76ms/step - loss: 0.6855 - accuracy: 0.5000 - val_loss: 0.6874 - val_accuracy: 0.6667\n",
      "Epoch 6/50\n",
      "2/2 [==============================] - 0s 87ms/step - loss: 0.6853 - accuracy: 0.5000 - val_loss: 0.6881 - val_accuracy: 0.6667\n",
      "Epoch 7/50\n",
      "2/2 [==============================] - 0s 72ms/step - loss: 0.6823 - accuracy: 0.5000 - val_loss: 0.6888 - val_accuracy: 0.6667\n",
      "Epoch 8/50\n",
      "2/2 [==============================] - 0s 64ms/step - loss: 0.6826 - accuracy: 0.4667 - val_loss: 0.6885 - val_accuracy: 0.6667\n",
      "Epoch 9/50\n",
      "2/2 [==============================] - 0s 63ms/step - loss: 0.6814 - accuracy: 0.4667 - val_loss: 0.6877 - val_accuracy: 0.6667\n",
      "Epoch 10/50\n",
      "2/2 [==============================] - 0s 58ms/step - loss: 0.6797 - accuracy: 0.4667 - val_loss: 0.6869 - val_accuracy: 0.6667\n",
      "Epoch 11/50\n",
      "2/2 [==============================] - 0s 65ms/step - loss: 0.6709 - accuracy: 0.5333 - val_loss: 0.6891 - val_accuracy: 0.6667\n",
      "Epoch 12/50\n",
      "2/2 [==============================] - 0s 57ms/step - loss: 0.6763 - accuracy: 0.4667 - val_loss: 0.6886 - val_accuracy: 0.6667\n",
      "Epoch 13/50\n",
      "2/2 [==============================] - 0s 63ms/step - loss: 0.6684 - accuracy: 0.5333 - val_loss: 0.6907 - val_accuracy: 0.6667\n",
      "Epoch 14/50\n",
      "2/2 [==============================] - 0s 82ms/step - loss: 0.6743 - accuracy: 0.4667 - val_loss: 0.6898 - val_accuracy: 0.6667\n",
      "Epoch 15/50\n",
      "2/2 [==============================] - 0s 85ms/step - loss: 0.6662 - accuracy: 0.5333 - val_loss: 0.6915 - val_accuracy: 0.6667\n",
      "Epoch 16/50\n",
      "2/2 [==============================] - 0s 57ms/step - loss: 0.6687 - accuracy: 0.5000 - val_loss: 0.6917 - val_accuracy: 0.6667\n",
      "Epoch 17/50\n",
      "2/2 [==============================] - 0s 60ms/step - loss: 0.6640 - accuracy: 0.5000 - val_loss: 0.6923 - val_accuracy: 0.6667\n",
      "Epoch 18/50\n",
      "2/2 [==============================] - 0s 68ms/step - loss: 0.6594 - accuracy: 0.5333 - val_loss: 0.6944 - val_accuracy: 0.6667\n",
      "Epoch 19/50\n",
      "2/2 [==============================] - 0s 66ms/step - loss: 0.6623 - accuracy: 0.7571 - val_loss: 0.6945 - val_accuracy: 0.6667\n",
      "Epoch 20/50\n",
      "2/2 [==============================] - 0s 57ms/step - loss: 0.6597 - accuracy: 0.7571 - val_loss: 0.6940 - val_accuracy: 0.6667\n",
      "Epoch 21/50\n",
      "2/2 [==============================] - 0s 67ms/step - loss: 0.6599 - accuracy: 0.7571 - val_loss: 0.6947 - val_accuracy: 0.6667\n",
      "Epoch 22/50\n",
      "2/2 [==============================] - 0s 70ms/step - loss: 0.6530 - accuracy: 0.6952 - val_loss: 0.6983 - val_accuracy: 0.6667\n",
      "Epoch 23/50\n",
      "2/2 [==============================] - 0s 75ms/step - loss: 0.6550 - accuracy: 0.9190 - val_loss: 0.6987 - val_accuracy: 0.6667\n",
      "Epoch 24/50\n",
      "2/2 [==============================] - 0s 85ms/step - loss: 0.6546 - accuracy: 0.9190 - val_loss: 0.6988 - val_accuracy: 0.6667\n",
      "Epoch 25/50\n",
      "2/2 [==============================] - 0s 61ms/step - loss: 0.6515 - accuracy: 0.9190 - val_loss: 0.6992 - val_accuracy: 0.6667\n",
      "Epoch 26/50\n",
      "2/2 [==============================] - 0s 73ms/step - loss: 0.6483 - accuracy: 0.9524 - val_loss: 0.6999 - val_accuracy: 0.5000\n",
      "Epoch 27/50\n",
      "2/2 [==============================] - 0s 60ms/step - loss: 0.6462 - accuracy: 0.9524 - val_loss: 0.7006 - val_accuracy: 0.3333\n",
      "Epoch 28/50\n",
      "2/2 [==============================] - 0s 61ms/step - loss: 0.6489 - accuracy: 0.9190 - val_loss: 0.6994 - val_accuracy: 0.6667\n",
      "Epoch 29/50\n",
      "2/2 [==============================] - 0s 89ms/step - loss: 0.6413 - accuracy: 0.9190 - val_loss: 0.7001 - val_accuracy: 0.6667\n",
      "Epoch 30/50\n",
      "2/2 [==============================] - 0s 71ms/step - loss: 0.6379 - accuracy: 0.9524 - val_loss: 0.7008 - val_accuracy: 0.5000\n",
      "Epoch 31/50\n",
      "2/2 [==============================] - 0s 77ms/step - loss: 0.6382 - accuracy: 0.9190 - val_loss: 0.7013 - val_accuracy: 0.5000\n",
      "Epoch 32/50\n",
      "2/2 [==============================] - 0s 76ms/step - loss: 0.6371 - accuracy: 0.9190 - val_loss: 0.7016 - val_accuracy: 0.3333\n",
      "Epoch 33/50\n",
      "2/2 [==============================] - 0s 76ms/step - loss: 0.6374 - accuracy: 1.0000 - val_loss: 0.7007 - val_accuracy: 0.6667\n",
      "Epoch 34/50\n",
      "2/2 [==============================] - 0s 74ms/step - loss: 0.6315 - accuracy: 0.9190 - val_loss: 0.7020 - val_accuracy: 0.5000\n",
      "Epoch 35/50\n",
      "2/2 [==============================] - 0s 82ms/step - loss: 0.6329 - accuracy: 0.9190 - val_loss: 0.7029 - val_accuracy: 0.3333\n",
      "Epoch 36/50\n",
      "2/2 [==============================] - 0s 83ms/step - loss: 0.6278 - accuracy: 0.9190 - val_loss: 0.7017 - val_accuracy: 0.6667\n",
      "Epoch 37/50\n",
      "2/2 [==============================] - 0s 75ms/step - loss: 0.6301 - accuracy: 0.9190 - val_loss: 0.7026 - val_accuracy: 0.5000\n",
      "Epoch 38/50\n",
      "2/2 [==============================] - 0s 88ms/step - loss: 0.6256 - accuracy: 0.9190 - val_loss: 0.7035 - val_accuracy: 0.5000\n",
      "Epoch 39/50\n",
      "2/2 [==============================] - 0s 74ms/step - loss: 0.6257 - accuracy: 0.9190 - val_loss: 0.7028 - val_accuracy: 0.6667\n",
      "Epoch 40/50\n",
      "2/2 [==============================] - 0s 75ms/step - loss: 0.6178 - accuracy: 0.9524 - val_loss: 0.7040 - val_accuracy: 0.5000\n",
      "Epoch 41/50\n",
      "2/2 [==============================] - 0s 78ms/step - loss: 0.6219 - accuracy: 0.9190 - val_loss: 0.7050 - val_accuracy: 0.3333\n",
      "Epoch 42/50\n",
      "2/2 [==============================] - 0s 77ms/step - loss: 0.6161 - accuracy: 0.9524 - val_loss: 0.7056 - val_accuracy: 0.3333\n",
      "Epoch 43/50\n",
      "2/2 [==============================] - 0s 73ms/step - loss: 0.6182 - accuracy: 0.9190 - val_loss: 0.7065 - val_accuracy: 0.3333\n",
      "Epoch 44/50\n",
      "2/2 [==============================] - 0s 67ms/step - loss: 0.6086 - accuracy: 0.9190 - val_loss: 0.7055 - val_accuracy: 0.5000\n",
      "Epoch 45/50\n",
      "2/2 [==============================] - 0s 72ms/step - loss: 0.6051 - accuracy: 0.9190 - val_loss: 0.7061 - val_accuracy: 0.5000\n",
      "Epoch 46/50\n",
      "2/2 [==============================] - 0s 69ms/step - loss: 0.6037 - accuracy: 0.9524 - val_loss: 0.7071 - val_accuracy: 0.5000\n",
      "Epoch 47/50\n",
      "2/2 [==============================] - 0s 62ms/step - loss: 0.5991 - accuracy: 0.9524 - val_loss: 0.7088 - val_accuracy: 0.3333\n",
      "Epoch 48/50\n",
      "2/2 [==============================] - 0s 64ms/step - loss: 0.5947 - accuracy: 0.9524 - val_loss: 0.7138 - val_accuracy: 0.1667\n",
      "Epoch 49/50\n",
      "2/2 [==============================] - 0s 61ms/step - loss: 0.5982 - accuracy: 1.0000 - val_loss: 0.7164 - val_accuracy: 0.3333\n",
      "Epoch 50/50\n",
      "2/2 [==============================] - 0s 63ms/step - loss: 0.5946 - accuracy: 1.0000 - val_loss: 0.7167 - val_accuracy: 0.3333\n",
      "Loss : 0.7166541218757629\n",
      "Accuracy :33.33333432674408\n"
     ]
    }
   ],
   "source": [
    "print(model.summary())\n",
    "model.compile(loss='sparse_categorical_crossentropy',\n",
    "              optimizer=\"sgd\",metrics=['accuracy'])\n",
    "model.fit(X_train, y_train, batch_size=10, epochs=50, verbose=1, validation_data=(X_test, y_test))\n",
    "loss, accuracy = model.evaluate(X_test,y_test, verbose=0)\n",
    "print(\"Loss : \"+str(loss))\n",
    "print(\"Accuracy :\"+str(accuracy*100.0))"
   ]
  }
 ],
 "metadata": {
  "kernelspec": {
   "display_name": "Python 3",
   "language": "python",
   "name": "python3"
  },
  "language_info": {
   "codemirror_mode": {
    "name": "ipython",
    "version": 3
   },
   "file_extension": ".py",
   "mimetype": "text/x-python",
   "name": "python",
   "nbconvert_exporter": "python",
   "pygments_lexer": "ipython3",
   "version": "3.8.5"
  }
 },
 "nbformat": 4,
 "nbformat_minor": 4
}
